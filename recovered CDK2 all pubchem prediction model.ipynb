{
 "cells": [
  {
   "cell_type": "code",
   "execution_count": 1,
   "id": "d84b48e0",
   "metadata": {},
   "outputs": [],
   "source": [
    "import numpy as np, pandas as pd\n",
    "\n",
    "from sklearn.model_selection import train_test_split\n",
    "from sklearn.preprocessing import StandardScaler, PolynomialFeatures\n",
    "from sklearn.linear_model import LinearRegression, LogisticRegression\n",
    "from sklearn.tree import DecisionTreeClassifier, DecisionTreeRegressor\n",
    "from sklearn.ensemble import RandomForestClassifier, RandomForestRegressor, GradientBoostingClassifier, GradientBoostingRegressor\n",
    "from sklearn.svm import SVC, SVR\n",
    "from sklearn.metrics import r2_score, classification_report\n",
    "\n",
    "\n",
    "\n",
    "# morgan packages\n",
    "from rdkit import Chem\n",
    "from rdkit.Chem import AllChem, DataStructs"
   ]
  },
  {
   "cell_type": "markdown",
   "id": "2f1441ba",
   "metadata": {},
   "source": [
    "## manipulating the model data"
   ]
  },
  {
   "cell_type": "code",
   "execution_count": 2,
   "id": "4ded07b2",
   "metadata": {},
   "outputs": [
    {
     "name": "stdout",
     "output_type": "stream",
     "text": [
      "(2952, 46)\n"
     ]
    },
    {
     "data": {
      "text/html": [
       "<div>\n",
       "<style scoped>\n",
       "    .dataframe tbody tr th:only-of-type {\n",
       "        vertical-align: middle;\n",
       "    }\n",
       "\n",
       "    .dataframe tbody tr th {\n",
       "        vertical-align: top;\n",
       "    }\n",
       "\n",
       "    .dataframe thead th {\n",
       "        text-align: right;\n",
       "    }\n",
       "</style>\n",
       "<table border=\"1\" class=\"dataframe\">\n",
       "  <thead>\n",
       "    <tr style=\"text-align: right;\">\n",
       "      <th></th>\n",
       "      <th>action_type</th>\n",
       "      <th>activity_comment</th>\n",
       "      <th>activity_id</th>\n",
       "      <th>activity_properties</th>\n",
       "      <th>assay_chembl_id</th>\n",
       "      <th>assay_description</th>\n",
       "      <th>assay_type</th>\n",
       "      <th>assay_variant_accession</th>\n",
       "      <th>assay_variant_mutation</th>\n",
       "      <th>bao_endpoint</th>\n",
       "      <th>...</th>\n",
       "      <th>target_organism</th>\n",
       "      <th>target_pref_name</th>\n",
       "      <th>target_tax_id</th>\n",
       "      <th>text_value</th>\n",
       "      <th>toid</th>\n",
       "      <th>type</th>\n",
       "      <th>units</th>\n",
       "      <th>uo_units</th>\n",
       "      <th>upper_value</th>\n",
       "      <th>value</th>\n",
       "    </tr>\n",
       "  </thead>\n",
       "  <tbody>\n",
       "    <tr>\n",
       "      <th>0</th>\n",
       "      <td>NaN</td>\n",
       "      <td>NaN</td>\n",
       "      <td>105376</td>\n",
       "      <td>[]</td>\n",
       "      <td>CHEMBL660784</td>\n",
       "      <td>Inhibitory concentration against cyclin-depend...</td>\n",
       "      <td>B</td>\n",
       "      <td>NaN</td>\n",
       "      <td>NaN</td>\n",
       "      <td>BAO_0000190</td>\n",
       "      <td>...</td>\n",
       "      <td>Homo sapiens</td>\n",
       "      <td>Cyclin-dependent kinase 2</td>\n",
       "      <td>9606</td>\n",
       "      <td>NaN</td>\n",
       "      <td>NaN</td>\n",
       "      <td>IC50</td>\n",
       "      <td>uM</td>\n",
       "      <td>UO_0000065</td>\n",
       "      <td>NaN</td>\n",
       "      <td>36.00</td>\n",
       "    </tr>\n",
       "    <tr>\n",
       "      <th>1</th>\n",
       "      <td>NaN</td>\n",
       "      <td>NaN</td>\n",
       "      <td>106512</td>\n",
       "      <td>[]</td>\n",
       "      <td>CHEMBL661128</td>\n",
       "      <td>Inhibitory concentration against cyclin-depend...</td>\n",
       "      <td>B</td>\n",
       "      <td>NaN</td>\n",
       "      <td>NaN</td>\n",
       "      <td>BAO_0000190</td>\n",
       "      <td>...</td>\n",
       "      <td>Homo sapiens</td>\n",
       "      <td>Cyclin-dependent kinase 2</td>\n",
       "      <td>9606</td>\n",
       "      <td>NaN</td>\n",
       "      <td>NaN</td>\n",
       "      <td>IC50</td>\n",
       "      <td>nM</td>\n",
       "      <td>UO_0000065</td>\n",
       "      <td>NaN</td>\n",
       "      <td>2.00</td>\n",
       "    </tr>\n",
       "    <tr>\n",
       "      <th>2</th>\n",
       "      <td>NaN</td>\n",
       "      <td>NaN</td>\n",
       "      <td>107704</td>\n",
       "      <td>[]</td>\n",
       "      <td>CHEMBL661128</td>\n",
       "      <td>Inhibitory concentration against cyclin-depend...</td>\n",
       "      <td>B</td>\n",
       "      <td>NaN</td>\n",
       "      <td>NaN</td>\n",
       "      <td>BAO_0000190</td>\n",
       "      <td>...</td>\n",
       "      <td>Homo sapiens</td>\n",
       "      <td>Cyclin-dependent kinase 2</td>\n",
       "      <td>9606</td>\n",
       "      <td>NaN</td>\n",
       "      <td>NaN</td>\n",
       "      <td>IC50</td>\n",
       "      <td>nM</td>\n",
       "      <td>UO_0000065</td>\n",
       "      <td>NaN</td>\n",
       "      <td>1000.00</td>\n",
       "    </tr>\n",
       "    <tr>\n",
       "      <th>3</th>\n",
       "      <td>NaN</td>\n",
       "      <td>NaN</td>\n",
       "      <td>107706</td>\n",
       "      <td>[]</td>\n",
       "      <td>CHEMBL661128</td>\n",
       "      <td>Inhibitory concentration against cyclin-depend...</td>\n",
       "      <td>B</td>\n",
       "      <td>NaN</td>\n",
       "      <td>NaN</td>\n",
       "      <td>BAO_0000190</td>\n",
       "      <td>...</td>\n",
       "      <td>Homo sapiens</td>\n",
       "      <td>Cyclin-dependent kinase 2</td>\n",
       "      <td>9606</td>\n",
       "      <td>NaN</td>\n",
       "      <td>NaN</td>\n",
       "      <td>IC50</td>\n",
       "      <td>nM</td>\n",
       "      <td>UO_0000065</td>\n",
       "      <td>NaN</td>\n",
       "      <td>1000.00</td>\n",
       "    </tr>\n",
       "    <tr>\n",
       "      <th>4</th>\n",
       "      <td>NaN</td>\n",
       "      <td>NaN</td>\n",
       "      <td>108039</td>\n",
       "      <td>[]</td>\n",
       "      <td>CHEMBL661130</td>\n",
       "      <td>Inhibition of Cyclin-dependent kinase 2</td>\n",
       "      <td>B</td>\n",
       "      <td>NaN</td>\n",
       "      <td>NaN</td>\n",
       "      <td>BAO_0000190</td>\n",
       "      <td>...</td>\n",
       "      <td>Homo sapiens</td>\n",
       "      <td>Cyclin-dependent kinase 2</td>\n",
       "      <td>9606</td>\n",
       "      <td>NaN</td>\n",
       "      <td>NaN</td>\n",
       "      <td>IC50</td>\n",
       "      <td>uM</td>\n",
       "      <td>UO_0000065</td>\n",
       "      <td>NaN</td>\n",
       "      <td>0.03</td>\n",
       "    </tr>\n",
       "  </tbody>\n",
       "</table>\n",
       "<p>5 rows × 46 columns</p>\n",
       "</div>"
      ],
      "text/plain": [
       "  action_type activity_comment  activity_id activity_properties  \\\n",
       "0         NaN              NaN       105376                  []   \n",
       "1         NaN              NaN       106512                  []   \n",
       "2         NaN              NaN       107704                  []   \n",
       "3         NaN              NaN       107706                  []   \n",
       "4         NaN              NaN       108039                  []   \n",
       "\n",
       "  assay_chembl_id                                  assay_description  \\\n",
       "0    CHEMBL660784  Inhibitory concentration against cyclin-depend...   \n",
       "1    CHEMBL661128  Inhibitory concentration against cyclin-depend...   \n",
       "2    CHEMBL661128  Inhibitory concentration against cyclin-depend...   \n",
       "3    CHEMBL661128  Inhibitory concentration against cyclin-depend...   \n",
       "4    CHEMBL661130            Inhibition of Cyclin-dependent kinase 2   \n",
       "\n",
       "  assay_type assay_variant_accession assay_variant_mutation bao_endpoint  ...  \\\n",
       "0          B                     NaN                    NaN  BAO_0000190  ...   \n",
       "1          B                     NaN                    NaN  BAO_0000190  ...   \n",
       "2          B                     NaN                    NaN  BAO_0000190  ...   \n",
       "3          B                     NaN                    NaN  BAO_0000190  ...   \n",
       "4          B                     NaN                    NaN  BAO_0000190  ...   \n",
       "\n",
       "  target_organism           target_pref_name target_tax_id text_value toid  \\\n",
       "0    Homo sapiens  Cyclin-dependent kinase 2          9606        NaN  NaN   \n",
       "1    Homo sapiens  Cyclin-dependent kinase 2          9606        NaN  NaN   \n",
       "2    Homo sapiens  Cyclin-dependent kinase 2          9606        NaN  NaN   \n",
       "3    Homo sapiens  Cyclin-dependent kinase 2          9606        NaN  NaN   \n",
       "4    Homo sapiens  Cyclin-dependent kinase 2          9606        NaN  NaN   \n",
       "\n",
       "   type units    uo_units upper_value    value  \n",
       "0  IC50    uM  UO_0000065         NaN    36.00  \n",
       "1  IC50    nM  UO_0000065         NaN     2.00  \n",
       "2  IC50    nM  UO_0000065         NaN  1000.00  \n",
       "3  IC50    nM  UO_0000065         NaN  1000.00  \n",
       "4  IC50    uM  UO_0000065         NaN     0.03  \n",
       "\n",
       "[5 rows x 46 columns]"
      ]
     },
     "execution_count": 2,
     "metadata": {},
     "output_type": "execute_result"
    }
   ],
   "source": [
    "df= pd.read_csv(\"df_ic50.csv\")\n",
    "print(df.shape)\n",
    "df.head()"
   ]
  },
  {
   "cell_type": "code",
   "execution_count": 3,
   "id": "eb68a5e4",
   "metadata": {},
   "outputs": [
    {
     "data": {
      "text/plain": [
       "39"
      ]
     },
     "execution_count": 3,
     "metadata": {},
     "output_type": "execute_result"
    }
   ],
   "source": [
    "df.standard_value.isna().sum()"
   ]
  },
  {
   "cell_type": "code",
   "execution_count": 4,
   "id": "11942d40",
   "metadata": {},
   "outputs": [],
   "source": [
    "#dropping the na values in standard value column\n",
    "df.dropna(subset=[\"standard_value\"], axis=0, inplace=True)"
   ]
  },
  {
   "cell_type": "code",
   "execution_count": 5,
   "id": "504b508e",
   "metadata": {},
   "outputs": [
    {
     "data": {
      "text/plain": [
       "0"
      ]
     },
     "execution_count": 5,
     "metadata": {},
     "output_type": "execute_result"
    }
   ],
   "source": [
    "df.standard_value.isna().sum()"
   ]
  },
  {
   "cell_type": "code",
   "execution_count": 6,
   "id": "172cd48a",
   "metadata": {},
   "outputs": [
    {
     "data": {
      "text/plain": [
       "standard_units\n",
       "nM         2861\n",
       "ug.mL-1      52\n",
       "Name: count, dtype: int64"
      ]
     },
     "execution_count": 6,
     "metadata": {},
     "output_type": "execute_result"
    }
   ],
   "source": [
    "df.standard_units.value_counts()"
   ]
  },
  {
   "cell_type": "code",
   "execution_count": 7,
   "id": "f1c47067",
   "metadata": {},
   "outputs": [
    {
     "data": {
      "text/plain": [
       "standard_units\n",
       "nM    2861\n",
       "Name: count, dtype: int64"
      ]
     },
     "execution_count": 7,
     "metadata": {},
     "output_type": "execute_result"
    }
   ],
   "source": [
    "# excluding the ug.mL-1  readings\n",
    "# df['standard_units2']=np.where (df.standard_type==\"ug.mL-1\", \"NA\", \"nM\")\n",
    "df=df[df[\"standard_units\"]!= \"ug.mL-1\"]\n",
    "df.standard_units.value_counts()"
   ]
  },
  {
   "cell_type": "code",
   "execution_count": 8,
   "id": "68496c93",
   "metadata": {},
   "outputs": [
    {
     "data": {
      "text/plain": [
       "activity\n",
       "1    2468\n",
       "0     393\n",
       "Name: count, dtype: int64"
      ]
     },
     "execution_count": 8,
     "metadata": {},
     "output_type": "execute_result"
    }
   ],
   "source": [
    "#selectiong the 10 nM as a cutoff point\n",
    "df[\"activity\"]=np.where(df[\"standard_value\"]<=10, 0, 1)\n",
    "df.activity.value_counts()"
   ]
  },
  {
   "cell_type": "code",
   "execution_count": 9,
   "id": "144a4c93",
   "metadata": {},
   "outputs": [
    {
     "data": {
      "text/plain": [
       "pandas.core.series.Series"
      ]
     },
     "execution_count": 9,
     "metadata": {},
     "output_type": "execute_result"
    }
   ],
   "source": [
    "type(df.canonical_smiles)"
   ]
  },
  {
   "cell_type": "code",
   "execution_count": 10,
   "id": "e1ca2714",
   "metadata": {},
   "outputs": [],
   "source": [
    "def create_molecule(smiles_string):\n",
    "  try:\n",
    "    return Chem.MolFromSmiles(smiles_string)\n",
    "  except:\n",
    "    return None  # Handle cases where SMILES string is invalid\n",
    "\n",
    "# Apply the function with error handling\n",
    "df[\"Molecule\"] = df[\"canonical_smiles\"].apply(create_molecule)\n",
    "df = df[df['Molecule'].notnull()]  # Keep rows with valid molecules\n"
   ]
  },
  {
   "cell_type": "code",
   "execution_count": 11,
   "id": "edbbfdbb",
   "metadata": {},
   "outputs": [],
   "source": [
    "# df[\"Molecule\"]=df[\"canonical_smiles\"].apply(Chem.MolFromSmiles)\n",
    "df[\"Fingerprint\"]=df[\"Molecule\"].apply(lambda x:AllChem.GetMorganFingerprintAsBitVect(x,2))"
   ]
  },
  {
   "cell_type": "code",
   "execution_count": 12,
   "id": "121ca370",
   "metadata": {},
   "outputs": [
    {
     "data": {
      "text/plain": [
       "0       [0, 1, 0, 0, 0, 0, 0, 0, 0, 0, 0, 0, 0, 0, 0, ...\n",
       "1       [0, 0, 0, 0, 0, 1, 0, 0, 0, 0, 0, 0, 0, 0, 0, ...\n",
       "2       [0, 0, 0, 0, 0, 0, 0, 0, 0, 0, 0, 0, 0, 0, 1, ...\n",
       "3       [0, 0, 0, 0, 0, 0, 0, 0, 0, 0, 0, 0, 0, 0, 1, ...\n",
       "4       [0, 1, 0, 0, 0, 0, 0, 0, 0, 0, 0, 0, 0, 0, 0, ...\n",
       "                              ...                        \n",
       "2947    [0, 0, 0, 0, 0, 0, 0, 0, 1, 0, 0, 0, 0, 0, 0, ...\n",
       "2948    [0, 0, 0, 0, 0, 0, 0, 0, 0, 0, 0, 0, 0, 0, 0, ...\n",
       "2949    [0, 0, 0, 0, 0, 0, 0, 0, 1, 0, 0, 0, 0, 0, 0, ...\n",
       "2950    [0, 0, 0, 0, 0, 0, 0, 0, 1, 0, 0, 0, 0, 0, 0, ...\n",
       "2951    [0, 0, 0, 0, 0, 0, 0, 0, 1, 0, 0, 0, 0, 0, 0, ...\n",
       "Name: Fingerprint, Length: 2857, dtype: object"
      ]
     },
     "execution_count": 12,
     "metadata": {},
     "output_type": "execute_result"
    }
   ],
   "source": [
    "df.Fingerprint\n"
   ]
  },
  {
   "cell_type": "markdown",
   "id": "b8f43fb7",
   "metadata": {},
   "source": [
    "## designing the model"
   ]
  },
  {
   "cell_type": "code",
   "execution_count": 13,
   "id": "b50f8ac4",
   "metadata": {},
   "outputs": [
    {
     "data": {
      "text/plain": [
       "activity\n",
       "1    2464\n",
       "0     393\n",
       "Name: count, dtype: int64"
      ]
     },
     "execution_count": 13,
     "metadata": {},
     "output_type": "execute_result"
    }
   ],
   "source": [
    "df.activity.value_counts()"
   ]
  },
  {
   "cell_type": "code",
   "execution_count": 14,
   "id": "dbc5170c",
   "metadata": {},
   "outputs": [],
   "source": [
    "\n",
    "X_train, X_test, y_train, y_test = train_test_split(\n",
    "    list(df['Fingerprint']),\n",
    "    df['activity'],\n",
    "    test_size=0.3,\n",
    "    random_state=42\n",
    ")\n"
   ]
  },
  {
   "cell_type": "code",
   "execution_count": 15,
   "id": "5b643f37",
   "metadata": {},
   "outputs": [],
   "source": [
    "# # Training the models\n",
    "# models={\n",
    "#     \"lr\":LogisticRegression(C=1),\n",
    "#     \"svc\":SVC(),\n",
    "#     \"DTC\":DecisionTreeClassifier(),\n",
    "#     \"RFC\":RandomForestClassifier(n_estimators=1000, max_depth=10, min_samples_split=5, min_samples_leaf=2, random_state=42),\n",
    "#     \"GBC\":GradientBoostingClassifier()\n",
    "# }\n",
    "\n",
    "\n",
    "# for names, model in models.items():\n",
    "#     model.fit(X_train, y_train)\n",
    "#     Y_pred= model.predict(X_test)\n",
    "#     print(classification_report(Y_pred, y_test)+names)"
   ]
  },
  {
   "cell_type": "code",
   "execution_count": 16,
   "id": "550aa1ba",
   "metadata": {
    "scrolled": false
   },
   "outputs": [
    {
     "name": "stdout",
     "output_type": "stream",
     "text": [
      "              precision    recall  f1-score   support\n",
      "\n",
      "           0       0.70      0.79      0.74        99\n",
      "           1       0.97      0.96      0.96       759\n",
      "\n",
      "    accuracy                           0.94       858\n",
      "   macro avg       0.84      0.87      0.85       858\n",
      "weighted avg       0.94      0.94      0.94       858\n",
      "\n"
     ]
    }
   ],
   "source": [
    "# considering the RFC as the best model\n",
    "model=RandomForestClassifier(max_depth=30, min_samples_split=2, n_estimators=61, min_samples_leaf=1, random_state=123)\n",
    "model.fit(X_train, y_train)\n",
    "\n",
    "y_predict=model.predict(X_test)\n",
    "print(classification_report(y_predict, y_test))"
   ]
  },
  {
   "cell_type": "markdown",
   "id": "6f3b4519",
   "metadata": {},
   "source": [
    "## preparing all of the pbuchem compounds using our model"
   ]
  },
  {
   "cell_type": "code",
   "execution_count": 17,
   "id": "8ad21ab8",
   "metadata": {
    "scrolled": true
   },
   "outputs": [
    {
     "data": {
      "text/plain": [
       "(3106, 3)"
      ]
     },
     "execution_count": 17,
     "metadata": {},
     "output_type": "execute_result"
    }
   ],
   "source": [
    "df_pubchem= pd.read_csv(\"all_active_3cols.csv\")\n",
    "df_pubchem.shape"
   ]
  },
  {
   "cell_type": "code",
   "execution_count": 18,
   "id": "8d294514",
   "metadata": {},
   "outputs": [
    {
     "data": {
      "text/html": [
       "<div>\n",
       "<style scoped>\n",
       "    .dataframe tbody tr th:only-of-type {\n",
       "        vertical-align: middle;\n",
       "    }\n",
       "\n",
       "    .dataframe tbody tr th {\n",
       "        vertical-align: top;\n",
       "    }\n",
       "\n",
       "    .dataframe thead th {\n",
       "        text-align: right;\n",
       "    }\n",
       "</style>\n",
       "<table border=\"1\" class=\"dataframe\">\n",
       "  <thead>\n",
       "    <tr style=\"text-align: right;\">\n",
       "      <th></th>\n",
       "      <th>cid</th>\n",
       "      <th>cmpdname</th>\n",
       "      <th>canonicalsmiles</th>\n",
       "    </tr>\n",
       "  </thead>\n",
       "  <tbody>\n",
       "    <tr>\n",
       "      <th>0</th>\n",
       "      <td>1605</td>\n",
       "      <td>11,25-Dihydroxy-3-methoxy-2-methyl-4-(methylam...</td>\n",
       "      <td>CC12C(C(CC(O1)N3C4=C(C=C(C=C4)O)C5=C6C(=C7C8=C...</td>\n",
       "    </tr>\n",
       "    <tr>\n",
       "      <th>1</th>\n",
       "      <td>3543</td>\n",
       "      <td>2-[trans-(4-Aminocyclohexyl)amino]-6-(benzyl-a...</td>\n",
       "      <td>C1CCC(C1)N2C=NC3=C(N=C(N=C32)NC4CCC(CC4)N)NCC5...</td>\n",
       "    </tr>\n",
       "    <tr>\n",
       "      <th>2</th>\n",
       "      <td>4566</td>\n",
       "      <td>O6-Cyclohexylmethoxy-2-(4'-sulphamoylanilino) ...</td>\n",
       "      <td>C1CCC(CC1)COC2=NC(=NC3=C2NC=N3)NC4=CC=C(C=C4)S...</td>\n",
       "    </tr>\n",
       "    <tr>\n",
       "      <th>3</th>\n",
       "      <td>5279</td>\n",
       "      <td>Staurosporine HCl</td>\n",
       "      <td>CC12C(C(CC(O1)N3C4=CC=CC=C4C5=C6C(=C7C8=CC=CC=...</td>\n",
       "    </tr>\n",
       "    <tr>\n",
       "      <th>4</th>\n",
       "      <td>44259</td>\n",
       "      <td>Staurosporine</td>\n",
       "      <td>CC12C(C(CC(O1)N3C4=CC=CC=C4C5=C6C(=C7C8=CC=CC=...</td>\n",
       "    </tr>\n",
       "  </tbody>\n",
       "</table>\n",
       "</div>"
      ],
      "text/plain": [
       "     cid                                           cmpdname  \\\n",
       "0   1605  11,25-Dihydroxy-3-methoxy-2-methyl-4-(methylam...   \n",
       "1   3543  2-[trans-(4-Aminocyclohexyl)amino]-6-(benzyl-a...   \n",
       "2   4566  O6-Cyclohexylmethoxy-2-(4'-sulphamoylanilino) ...   \n",
       "3   5279                                  Staurosporine HCl   \n",
       "4  44259                                      Staurosporine   \n",
       "\n",
       "                                     canonicalsmiles  \n",
       "0  CC12C(C(CC(O1)N3C4=C(C=C(C=C4)O)C5=C6C(=C7C8=C...  \n",
       "1  C1CCC(C1)N2C=NC3=C(N=C(N=C32)NC4CCC(CC4)N)NCC5...  \n",
       "2  C1CCC(CC1)COC2=NC(=NC3=C2NC=N3)NC4=CC=C(C=C4)S...  \n",
       "3  CC12C(C(CC(O1)N3C4=CC=CC=C4C5=C6C(=C7C8=CC=CC=...  \n",
       "4  CC12C(C(CC(O1)N3C4=CC=CC=C4C5=C6C(=C7C8=CC=CC=...  "
      ]
     },
     "execution_count": 18,
     "metadata": {},
     "output_type": "execute_result"
    }
   ],
   "source": [
    "df_pubchem.head()"
   ]
  },
  {
   "cell_type": "code",
   "execution_count": 19,
   "id": "6f33e166",
   "metadata": {},
   "outputs": [
    {
     "data": {
      "text/plain": [
       "(3106, 3)"
      ]
     },
     "execution_count": 19,
     "metadata": {},
     "output_type": "execute_result"
    }
   ],
   "source": [
    "df_pubchem=df_pubchem.drop_duplicates(subset=\" cid\")\n",
    "df_pubchem.shape"
   ]
  },
  {
   "cell_type": "code",
   "execution_count": 20,
   "id": "f3fb025e",
   "metadata": {
    "scrolled": false
   },
   "outputs": [],
   "source": [
    "# df_active=pd.read_csv(\"\")"
   ]
  },
  {
   "cell_type": "code",
   "execution_count": 21,
   "id": "1d511375",
   "metadata": {},
   "outputs": [
    {
     "data": {
      "text/plain": [
       "Index([' cid', 'cmpdname', 'canonicalsmiles'], dtype='object')"
      ]
     },
     "execution_count": 21,
     "metadata": {},
     "output_type": "execute_result"
    }
   ],
   "source": [
    "df_pubchem.columns"
   ]
  },
  {
   "cell_type": "code",
   "execution_count": 22,
   "id": "a31f5bc3",
   "metadata": {},
   "outputs": [],
   "source": [
    "df_pubchem.columns=[x.lower().strip() for x in df_pubchem.columns]"
   ]
  },
  {
   "cell_type": "code",
   "execution_count": 23,
   "id": "669e1df5",
   "metadata": {},
   "outputs": [
    {
     "data": {
      "text/plain": [
       "0"
      ]
     },
     "execution_count": 23,
     "metadata": {},
     "output_type": "execute_result"
    }
   ],
   "source": [
    "df_pubchem.canonicalsmiles.isna().sum()"
   ]
  },
  {
   "cell_type": "code",
   "execution_count": 24,
   "id": "e41835b7",
   "metadata": {},
   "outputs": [
    {
     "name": "stderr",
     "output_type": "stream",
     "text": [
      "[14:12:22] WARNING: not removing hydrogen atom without neighbors\n",
      "[14:12:22] WARNING: not removing hydrogen atom without neighbors\n",
      "[14:12:22] WARNING: not removing hydrogen atom without neighbors\n",
      "[14:12:22] WARNING: not removing hydrogen atom without neighbors\n",
      "[14:12:22] WARNING: not removing hydrogen atom without neighbors\n"
     ]
    }
   ],
   "source": [
    "# #creating the Mol from smiles\n",
    "def create_molecule(smiles_string):\n",
    "  try:\n",
    "    return Chem.MolFromSmiles(smiles_string)\n",
    "  except:\n",
    "    return None  # Handle cases where SMILES string is invalid\n",
    "\n",
    "# Apply the function with error handling\n",
    "df_pubchem[\"Molecule\"] = df_pubchem[\"canonicalsmiles\"].apply(create_molecule)"
   ]
  },
  {
   "cell_type": "code",
   "execution_count": 25,
   "id": "cf40c712",
   "metadata": {},
   "outputs": [],
   "source": [
    "df_pubchem = df_pubchem[df_pubchem['Molecule'].notnull()]  # Keep rows with valid molecules\n"
   ]
  },
  {
   "cell_type": "code",
   "execution_count": 26,
   "id": "263a9da9",
   "metadata": {},
   "outputs": [],
   "source": [
    "# #creating the morgan fingerprint column\n",
    "df_pubchem[\"Fingerprint\"]=df_pubchem[\"Molecule\"].apply(lambda x:AllChem.GetMorganFingerprintAsBitVect(x,2))\n"
   ]
  },
  {
   "cell_type": "code",
   "execution_count": 27,
   "id": "31e8d1d5",
   "metadata": {
    "scrolled": true
   },
   "outputs": [],
   "source": [
    "#predicting the activity\n",
    "df_pubchem[\"predicted\"]=model.predict(list(df_pubchem[\"Fingerprint\"]))\n",
    "#extracting the active probability\n",
    "active_class = 0\n",
    "\n",
    "# Get predicted probabilities\n",
    "predicted_proba = model.predict_proba(list(df_pubchem[\"Fingerprint\"]))\n",
    "\n",
    "# Extract probabilities for the active class\n",
    "df_pubchem[\"predicted_proba\"] = predicted_proba[:, active_class]"
   ]
  },
  {
   "cell_type": "code",
   "execution_count": 28,
   "id": "c9263c46",
   "metadata": {},
   "outputs": [
    {
     "name": "stdout",
     "output_type": "stream",
     "text": [
      "predicted_proba\n",
      "0.651991     1\n",
      "0.555001     1\n",
      "0.518553     1\n",
      "0.574146     1\n",
      "0.590772     1\n",
      "            ..\n",
      "0.836066    34\n",
      "0.529169    39\n",
      "0.508237    47\n",
      "0.512776    50\n",
      "0.868852    71\n",
      "Name: count, Length: 1239, dtype: int64\n"
     ]
    },
    {
     "data": {
      "text/html": [
       "<div>\n",
       "<style scoped>\n",
       "    .dataframe tbody tr th:only-of-type {\n",
       "        vertical-align: middle;\n",
       "    }\n",
       "\n",
       "    .dataframe tbody tr th {\n",
       "        vertical-align: top;\n",
       "    }\n",
       "\n",
       "    .dataframe thead th {\n",
       "        text-align: right;\n",
       "    }\n",
       "</style>\n",
       "<table border=\"1\" class=\"dataframe\">\n",
       "  <thead>\n",
       "    <tr style=\"text-align: right;\">\n",
       "      <th></th>\n",
       "      <th>cid</th>\n",
       "      <th>cmpdname</th>\n",
       "      <th>canonicalsmiles</th>\n",
       "      <th>Molecule</th>\n",
       "      <th>Fingerprint</th>\n",
       "      <th>predicted</th>\n",
       "      <th>predicted_proba</th>\n",
       "    </tr>\n",
       "  </thead>\n",
       "  <tbody>\n",
       "    <tr>\n",
       "      <th>0</th>\n",
       "      <td>1605</td>\n",
       "      <td>11,25-Dihydroxy-3-methoxy-2-methyl-4-(methylam...</td>\n",
       "      <td>CC12C(C(CC(O1)N3C4=C(C=C(C=C4)O)C5=C6C(=C7C8=C...</td>\n",
       "      <td>&lt;rdkit.Chem.rdchem.Mol object at 0x7f54fbbb78b0&gt;</td>\n",
       "      <td>[0, 0, 0, 0, 1, 0, 0, 0, 0, 0, 0, 0, 0, 0, 0, ...</td>\n",
       "      <td>0</td>\n",
       "      <td>0.645129</td>\n",
       "    </tr>\n",
       "    <tr>\n",
       "      <th>1</th>\n",
       "      <td>3543</td>\n",
       "      <td>2-[trans-(4-Aminocyclohexyl)amino]-6-(benzyl-a...</td>\n",
       "      <td>C1CCC(C1)N2C=NC3=C(N=C(N=C32)NC4CCC(CC4)N)NCC5...</td>\n",
       "      <td>&lt;rdkit.Chem.rdchem.Mol object at 0x7f54fbbb7a70&gt;</td>\n",
       "      <td>[0, 0, 0, 0, 0, 0, 0, 0, 0, 1, 0, 0, 0, 0, 0, ...</td>\n",
       "      <td>0</td>\n",
       "      <td>0.711335</td>\n",
       "    </tr>\n",
       "    <tr>\n",
       "      <th>2</th>\n",
       "      <td>4566</td>\n",
       "      <td>O6-Cyclohexylmethoxy-2-(4'-sulphamoylanilino) ...</td>\n",
       "      <td>C1CCC(CC1)COC2=NC(=NC3=C2NC=N3)NC4=CC=C(C=C4)S...</td>\n",
       "      <td>&lt;rdkit.Chem.rdchem.Mol object at 0x7f54fbbb7ae0&gt;</td>\n",
       "      <td>[0, 0, 1, 0, 0, 0, 0, 0, 0, 0, 0, 0, 0, 0, 0, ...</td>\n",
       "      <td>0</td>\n",
       "      <td>0.604265</td>\n",
       "    </tr>\n",
       "    <tr>\n",
       "      <th>3</th>\n",
       "      <td>5279</td>\n",
       "      <td>Staurosporine HCl</td>\n",
       "      <td>CC12C(C(CC(O1)N3C4=CC=CC=C4C5=C6C(=C7C8=CC=CC=...</td>\n",
       "      <td>&lt;rdkit.Chem.rdchem.Mol object at 0x7f54fbbb7bc0&gt;</td>\n",
       "      <td>[0, 0, 0, 0, 1, 0, 0, 0, 0, 0, 0, 0, 0, 0, 0, ...</td>\n",
       "      <td>0</td>\n",
       "      <td>0.868852</td>\n",
       "    </tr>\n",
       "    <tr>\n",
       "      <th>4</th>\n",
       "      <td>44259</td>\n",
       "      <td>Staurosporine</td>\n",
       "      <td>CC12C(C(CC(O1)N3C4=CC=CC=C4C5=C6C(=C7C8=CC=CC=...</td>\n",
       "      <td>&lt;rdkit.Chem.rdchem.Mol object at 0x7f54fbbb7c30&gt;</td>\n",
       "      <td>[0, 0, 0, 0, 1, 0, 0, 0, 0, 0, 0, 0, 0, 0, 0, ...</td>\n",
       "      <td>0</td>\n",
       "      <td>0.868852</td>\n",
       "    </tr>\n",
       "  </tbody>\n",
       "</table>\n",
       "</div>"
      ],
      "text/plain": [
       "     cid                                           cmpdname  \\\n",
       "0   1605  11,25-Dihydroxy-3-methoxy-2-methyl-4-(methylam...   \n",
       "1   3543  2-[trans-(4-Aminocyclohexyl)amino]-6-(benzyl-a...   \n",
       "2   4566  O6-Cyclohexylmethoxy-2-(4'-sulphamoylanilino) ...   \n",
       "3   5279                                  Staurosporine HCl   \n",
       "4  44259                                      Staurosporine   \n",
       "\n",
       "                                     canonicalsmiles  \\\n",
       "0  CC12C(C(CC(O1)N3C4=C(C=C(C=C4)O)C5=C6C(=C7C8=C...   \n",
       "1  C1CCC(C1)N2C=NC3=C(N=C(N=C32)NC4CCC(CC4)N)NCC5...   \n",
       "2  C1CCC(CC1)COC2=NC(=NC3=C2NC=N3)NC4=CC=C(C=C4)S...   \n",
       "3  CC12C(C(CC(O1)N3C4=CC=CC=C4C5=C6C(=C7C8=CC=CC=...   \n",
       "4  CC12C(C(CC(O1)N3C4=CC=CC=C4C5=C6C(=C7C8=CC=CC=...   \n",
       "\n",
       "                                           Molecule  \\\n",
       "0  <rdkit.Chem.rdchem.Mol object at 0x7f54fbbb78b0>   \n",
       "1  <rdkit.Chem.rdchem.Mol object at 0x7f54fbbb7a70>   \n",
       "2  <rdkit.Chem.rdchem.Mol object at 0x7f54fbbb7ae0>   \n",
       "3  <rdkit.Chem.rdchem.Mol object at 0x7f54fbbb7bc0>   \n",
       "4  <rdkit.Chem.rdchem.Mol object at 0x7f54fbbb7c30>   \n",
       "\n",
       "                                         Fingerprint  predicted  \\\n",
       "0  [0, 0, 0, 0, 1, 0, 0, 0, 0, 0, 0, 0, 0, 0, 0, ...          0   \n",
       "1  [0, 0, 0, 0, 0, 0, 0, 0, 0, 1, 0, 0, 0, 0, 0, ...          0   \n",
       "2  [0, 0, 1, 0, 0, 0, 0, 0, 0, 0, 0, 0, 0, 0, 0, ...          0   \n",
       "3  [0, 0, 0, 0, 1, 0, 0, 0, 0, 0, 0, 0, 0, 0, 0, ...          0   \n",
       "4  [0, 0, 0, 0, 1, 0, 0, 0, 0, 0, 0, 0, 0, 0, 0, ...          0   \n",
       "\n",
       "   predicted_proba  \n",
       "0         0.645129  \n",
       "1         0.711335  \n",
       "2         0.604265  \n",
       "3         0.868852  \n",
       "4         0.868852  "
      ]
     },
     "execution_count": 28,
     "metadata": {},
     "output_type": "execute_result"
    }
   ],
   "source": [
    "print(df_pubchem.predicted_proba.value_counts( ascending=True))# all of them are active\n",
    "df_pubchem.head()"
   ]
  },
  {
   "cell_type": "code",
   "execution_count": 29,
   "id": "91873e58",
   "metadata": {},
   "outputs": [],
   "source": [
    "df_pubchem.to_csv(\"predicted3106with_probs.csv\")"
   ]
  },
  {
   "cell_type": "markdown",
   "id": "17595562",
   "metadata": {},
   "source": [
    "## manipulating the docked files"
   ]
  },
  {
   "cell_type": "code",
   "execution_count": 30,
   "id": "19c70b8d",
   "metadata": {},
   "outputs": [
    {
     "data": {
      "text/plain": [
       "Index(['cid', 'min_energy'], dtype='object')"
      ]
     },
     "execution_count": 30,
     "metadata": {},
     "output_type": "execute_result"
    }
   ],
   "source": [
    "df_docked=pd.read_csv(\"active_docking2856.csv\")\n",
    "df_docked.head()\n",
    "df_docked.columns"
   ]
  },
  {
   "cell_type": "code",
   "execution_count": 31,
   "id": "1c91b9c5",
   "metadata": {},
   "outputs": [],
   "source": [
    "df_docked=df_docked.sort_values(by=\"cid\", ascending=True)"
   ]
  },
  {
   "cell_type": "code",
   "execution_count": 32,
   "id": "7bbb0a01",
   "metadata": {},
   "outputs": [
    {
     "data": {
      "text/html": [
       "<div>\n",
       "<style scoped>\n",
       "    .dataframe tbody tr th:only-of-type {\n",
       "        vertical-align: middle;\n",
       "    }\n",
       "\n",
       "    .dataframe tbody tr th {\n",
       "        vertical-align: top;\n",
       "    }\n",
       "\n",
       "    .dataframe thead th {\n",
       "        text-align: right;\n",
       "    }\n",
       "</style>\n",
       "<table border=\"1\" class=\"dataframe\">\n",
       "  <thead>\n",
       "    <tr style=\"text-align: right;\">\n",
       "      <th></th>\n",
       "      <th>cid</th>\n",
       "      <th>min_energy</th>\n",
       "    </tr>\n",
       "  </thead>\n",
       "  <tbody>\n",
       "    <tr>\n",
       "      <th>2465</th>\n",
       "      <td>1605</td>\n",
       "      <td>-13.771</td>\n",
       "    </tr>\n",
       "    <tr>\n",
       "      <th>227</th>\n",
       "      <td>3543</td>\n",
       "      <td>-12.311</td>\n",
       "    </tr>\n",
       "    <tr>\n",
       "      <th>2544</th>\n",
       "      <td>4566</td>\n",
       "      <td>-11.260</td>\n",
       "    </tr>\n",
       "    <tr>\n",
       "      <th>466</th>\n",
       "      <td>5279</td>\n",
       "      <td>-14.799</td>\n",
       "    </tr>\n",
       "    <tr>\n",
       "      <th>1697</th>\n",
       "      <td>44259</td>\n",
       "      <td>-14.766</td>\n",
       "    </tr>\n",
       "  </tbody>\n",
       "</table>\n",
       "</div>"
      ],
      "text/plain": [
       "        cid  min_energy\n",
       "2465   1605     -13.771\n",
       "227    3543     -12.311\n",
       "2544   4566     -11.260\n",
       "466    5279     -14.799\n",
       "1697  44259     -14.766"
      ]
     },
     "execution_count": 32,
     "metadata": {},
     "output_type": "execute_result"
    }
   ],
   "source": [
    "df_docked.head()"
   ]
  },
  {
   "cell_type": "code",
   "execution_count": 33,
   "id": "c4803add",
   "metadata": {},
   "outputs": [],
   "source": [
    "df_ai = df_pubchem\n",
    "df_ai_docked = pd.merge(df_ai, df_docked, on=\"cid\", how= \"inner\")"
   ]
  },
  {
   "cell_type": "code",
   "execution_count": 34,
   "id": "9a17ca26",
   "metadata": {},
   "outputs": [
    {
     "name": "stdout",
     "output_type": "stream",
     "text": [
      "(2856, 8)\n"
     ]
    },
    {
     "data": {
      "text/html": [
       "<div>\n",
       "<style scoped>\n",
       "    .dataframe tbody tr th:only-of-type {\n",
       "        vertical-align: middle;\n",
       "    }\n",
       "\n",
       "    .dataframe tbody tr th {\n",
       "        vertical-align: top;\n",
       "    }\n",
       "\n",
       "    .dataframe thead th {\n",
       "        text-align: right;\n",
       "    }\n",
       "</style>\n",
       "<table border=\"1\" class=\"dataframe\">\n",
       "  <thead>\n",
       "    <tr style=\"text-align: right;\">\n",
       "      <th></th>\n",
       "      <th>cid</th>\n",
       "      <th>cmpdname</th>\n",
       "      <th>canonicalsmiles</th>\n",
       "      <th>Molecule</th>\n",
       "      <th>Fingerprint</th>\n",
       "      <th>predicted</th>\n",
       "      <th>predicted_proba</th>\n",
       "      <th>min_energy</th>\n",
       "    </tr>\n",
       "  </thead>\n",
       "  <tbody>\n",
       "    <tr>\n",
       "      <th>0</th>\n",
       "      <td>1605</td>\n",
       "      <td>11,25-Dihydroxy-3-methoxy-2-methyl-4-(methylam...</td>\n",
       "      <td>CC12C(C(CC(O1)N3C4=C(C=C(C=C4)O)C5=C6C(=C7C8=C...</td>\n",
       "      <td>&lt;rdkit.Chem.rdchem.Mol object at 0x7f54fbbb78b0&gt;</td>\n",
       "      <td>[0, 0, 0, 0, 1, 0, 0, 0, 0, 0, 0, 0, 0, 0, 0, ...</td>\n",
       "      <td>0</td>\n",
       "      <td>0.645129</td>\n",
       "      <td>-13.771</td>\n",
       "    </tr>\n",
       "    <tr>\n",
       "      <th>1</th>\n",
       "      <td>3543</td>\n",
       "      <td>2-[trans-(4-Aminocyclohexyl)amino]-6-(benzyl-a...</td>\n",
       "      <td>C1CCC(C1)N2C=NC3=C(N=C(N=C32)NC4CCC(CC4)N)NCC5...</td>\n",
       "      <td>&lt;rdkit.Chem.rdchem.Mol object at 0x7f54fbbb7a70&gt;</td>\n",
       "      <td>[0, 0, 0, 0, 0, 0, 0, 0, 0, 1, 0, 0, 0, 0, 0, ...</td>\n",
       "      <td>0</td>\n",
       "      <td>0.711335</td>\n",
       "      <td>-12.311</td>\n",
       "    </tr>\n",
       "    <tr>\n",
       "      <th>2</th>\n",
       "      <td>4566</td>\n",
       "      <td>O6-Cyclohexylmethoxy-2-(4'-sulphamoylanilino) ...</td>\n",
       "      <td>C1CCC(CC1)COC2=NC(=NC3=C2NC=N3)NC4=CC=C(C=C4)S...</td>\n",
       "      <td>&lt;rdkit.Chem.rdchem.Mol object at 0x7f54fbbb7ae0&gt;</td>\n",
       "      <td>[0, 0, 1, 0, 0, 0, 0, 0, 0, 0, 0, 0, 0, 0, 0, ...</td>\n",
       "      <td>0</td>\n",
       "      <td>0.604265</td>\n",
       "      <td>-11.260</td>\n",
       "    </tr>\n",
       "    <tr>\n",
       "      <th>3</th>\n",
       "      <td>5279</td>\n",
       "      <td>Staurosporine HCl</td>\n",
       "      <td>CC12C(C(CC(O1)N3C4=CC=CC=C4C5=C6C(=C7C8=CC=CC=...</td>\n",
       "      <td>&lt;rdkit.Chem.rdchem.Mol object at 0x7f54fbbb7bc0&gt;</td>\n",
       "      <td>[0, 0, 0, 0, 1, 0, 0, 0, 0, 0, 0, 0, 0, 0, 0, ...</td>\n",
       "      <td>0</td>\n",
       "      <td>0.868852</td>\n",
       "      <td>-14.799</td>\n",
       "    </tr>\n",
       "    <tr>\n",
       "      <th>4</th>\n",
       "      <td>44259</td>\n",
       "      <td>Staurosporine</td>\n",
       "      <td>CC12C(C(CC(O1)N3C4=CC=CC=C4C5=C6C(=C7C8=CC=CC=...</td>\n",
       "      <td>&lt;rdkit.Chem.rdchem.Mol object at 0x7f54fbbb7c30&gt;</td>\n",
       "      <td>[0, 0, 0, 0, 1, 0, 0, 0, 0, 0, 0, 0, 0, 0, 0, ...</td>\n",
       "      <td>0</td>\n",
       "      <td>0.868852</td>\n",
       "      <td>-14.766</td>\n",
       "    </tr>\n",
       "  </tbody>\n",
       "</table>\n",
       "</div>"
      ],
      "text/plain": [
       "     cid                                           cmpdname  \\\n",
       "0   1605  11,25-Dihydroxy-3-methoxy-2-methyl-4-(methylam...   \n",
       "1   3543  2-[trans-(4-Aminocyclohexyl)amino]-6-(benzyl-a...   \n",
       "2   4566  O6-Cyclohexylmethoxy-2-(4'-sulphamoylanilino) ...   \n",
       "3   5279                                  Staurosporine HCl   \n",
       "4  44259                                      Staurosporine   \n",
       "\n",
       "                                     canonicalsmiles  \\\n",
       "0  CC12C(C(CC(O1)N3C4=C(C=C(C=C4)O)C5=C6C(=C7C8=C...   \n",
       "1  C1CCC(C1)N2C=NC3=C(N=C(N=C32)NC4CCC(CC4)N)NCC5...   \n",
       "2  C1CCC(CC1)COC2=NC(=NC3=C2NC=N3)NC4=CC=C(C=C4)S...   \n",
       "3  CC12C(C(CC(O1)N3C4=CC=CC=C4C5=C6C(=C7C8=CC=CC=...   \n",
       "4  CC12C(C(CC(O1)N3C4=CC=CC=C4C5=C6C(=C7C8=CC=CC=...   \n",
       "\n",
       "                                           Molecule  \\\n",
       "0  <rdkit.Chem.rdchem.Mol object at 0x7f54fbbb78b0>   \n",
       "1  <rdkit.Chem.rdchem.Mol object at 0x7f54fbbb7a70>   \n",
       "2  <rdkit.Chem.rdchem.Mol object at 0x7f54fbbb7ae0>   \n",
       "3  <rdkit.Chem.rdchem.Mol object at 0x7f54fbbb7bc0>   \n",
       "4  <rdkit.Chem.rdchem.Mol object at 0x7f54fbbb7c30>   \n",
       "\n",
       "                                         Fingerprint  predicted  \\\n",
       "0  [0, 0, 0, 0, 1, 0, 0, 0, 0, 0, 0, 0, 0, 0, 0, ...          0   \n",
       "1  [0, 0, 0, 0, 0, 0, 0, 0, 0, 1, 0, 0, 0, 0, 0, ...          0   \n",
       "2  [0, 0, 1, 0, 0, 0, 0, 0, 0, 0, 0, 0, 0, 0, 0, ...          0   \n",
       "3  [0, 0, 0, 0, 1, 0, 0, 0, 0, 0, 0, 0, 0, 0, 0, ...          0   \n",
       "4  [0, 0, 0, 0, 1, 0, 0, 0, 0, 0, 0, 0, 0, 0, 0, ...          0   \n",
       "\n",
       "   predicted_proba  min_energy  \n",
       "0         0.645129     -13.771  \n",
       "1         0.711335     -12.311  \n",
       "2         0.604265     -11.260  \n",
       "3         0.868852     -14.799  \n",
       "4         0.868852     -14.766  "
      ]
     },
     "execution_count": 34,
     "metadata": {},
     "output_type": "execute_result"
    }
   ],
   "source": [
    "print(df_ai_docked.shape)\n",
    "df_ai_docked.head()"
   ]
  },
  {
   "cell_type": "code",
   "execution_count": 35,
   "id": "4ef4db07",
   "metadata": {},
   "outputs": [
    {
     "data": {
      "text/html": [
       "<div>\n",
       "<style scoped>\n",
       "    .dataframe tbody tr th:only-of-type {\n",
       "        vertical-align: middle;\n",
       "    }\n",
       "\n",
       "    .dataframe tbody tr th {\n",
       "        vertical-align: top;\n",
       "    }\n",
       "\n",
       "    .dataframe thead th {\n",
       "        text-align: right;\n",
       "    }\n",
       "</style>\n",
       "<table border=\"1\" class=\"dataframe\">\n",
       "  <thead>\n",
       "    <tr style=\"text-align: right;\">\n",
       "      <th></th>\n",
       "      <th>cid</th>\n",
       "      <th>cmpdname</th>\n",
       "      <th>canonicalsmiles</th>\n",
       "      <th>Molecule</th>\n",
       "      <th>Fingerprint</th>\n",
       "      <th>predicted</th>\n",
       "      <th>predicted_proba</th>\n",
       "    </tr>\n",
       "  </thead>\n",
       "  <tbody>\n",
       "    <tr>\n",
       "      <th>81</th>\n",
       "      <td>9805072</td>\n",
       "      <td>2-N-(4-aminocyclohexyl)-6-N-benzyl-9-cyclopent...</td>\n",
       "      <td>C1CCC(C1)N2C=NC3=C(N=C(N=C32)NC4CCC(CC4)N)NCC5...</td>\n",
       "      <td>&lt;rdkit.Chem.rdchem.Mol object at 0x7f54fbbd1d90&gt;</td>\n",
       "      <td>[0, 0, 0, 0, 0, 0, 0, 0, 0, 1, 0, 0, 0, 0, 0, ...</td>\n",
       "      <td>0</td>\n",
       "      <td>0.711335</td>\n",
       "    </tr>\n",
       "    <tr>\n",
       "      <th>82</th>\n",
       "      <td>9823287</td>\n",
       "      <td>(3Z)-5-fluoro-4-[2-(4-hydroxypiperidin-4-yl)et...</td>\n",
       "      <td>COC1=C(NC=C1)C=C2C3=C(C=CC(=C3C#CC4(CCNCC4)O)F...</td>\n",
       "      <td>&lt;rdkit.Chem.rdchem.Mol object at 0x7f54fbbd1e00&gt;</td>\n",
       "      <td>[0, 0, 0, 0, 0, 0, 0, 0, 0, 0, 0, 0, 0, 0, 0, ...</td>\n",
       "      <td>0</td>\n",
       "      <td>0.541099</td>\n",
       "    </tr>\n",
       "    <tr>\n",
       "      <th>97</th>\n",
       "      <td>9937178</td>\n",
       "      <td>hydroxyurea;(2S,3R,4R,6S)-3-methoxy-2-methyl-4...</td>\n",
       "      <td>CC12C(C(CC(O1)N3C4=CC=CC=C4C5=C6C(=C7C8=CC=CC=...</td>\n",
       "      <td>&lt;rdkit.Chem.rdchem.Mol object at 0x7f54fbbd2420&gt;</td>\n",
       "      <td>[0, 0, 0, 0, 1, 0, 0, 0, 0, 0, 0, 0, 0, 0, 0, ...</td>\n",
       "      <td>0</td>\n",
       "      <td>0.770492</td>\n",
       "    </tr>\n",
       "    <tr>\n",
       "      <th>100</th>\n",
       "      <td>9947168</td>\n",
       "      <td>5-(2-amino-ethylsulfanyl)-6-fluoro-3-(1H-pyrro...</td>\n",
       "      <td>C1=CNC(=C1)C2=C3C4=C(C=CC(=C4C(=C2)SCCN)F)NC3=...</td>\n",
       "      <td>&lt;rdkit.Chem.rdchem.Mol object at 0x7f54fbbd2570&gt;</td>\n",
       "      <td>[0, 0, 0, 0, 0, 0, 0, 0, 0, 0, 0, 0, 0, 0, 0, ...</td>\n",
       "      <td>0</td>\n",
       "      <td>0.709016</td>\n",
       "    </tr>\n",
       "    <tr>\n",
       "      <th>129</th>\n",
       "      <td>10121999</td>\n",
       "      <td>1-[4-[[2-[(4-Aminocyclohexyl)amino]-9-cyclopen...</td>\n",
       "      <td>C1CCC(C1)N2C=NC3=C(N=C(N=C32)NC4CCC(CC4)N)NC5C...</td>\n",
       "      <td>&lt;rdkit.Chem.rdchem.Mol object at 0x7f54fbbd3220&gt;</td>\n",
       "      <td>[0, 1, 0, 0, 0, 0, 0, 0, 0, 1, 0, 0, 0, 0, 0, ...</td>\n",
       "      <td>0</td>\n",
       "      <td>0.513130</td>\n",
       "    </tr>\n",
       "  </tbody>\n",
       "</table>\n",
       "</div>"
      ],
      "text/plain": [
       "          cid                                           cmpdname  \\\n",
       "81    9805072  2-N-(4-aminocyclohexyl)-6-N-benzyl-9-cyclopent...   \n",
       "82    9823287  (3Z)-5-fluoro-4-[2-(4-hydroxypiperidin-4-yl)et...   \n",
       "97    9937178  hydroxyurea;(2S,3R,4R,6S)-3-methoxy-2-methyl-4...   \n",
       "100   9947168  5-(2-amino-ethylsulfanyl)-6-fluoro-3-(1H-pyrro...   \n",
       "129  10121999  1-[4-[[2-[(4-Aminocyclohexyl)amino]-9-cyclopen...   \n",
       "\n",
       "                                       canonicalsmiles  \\\n",
       "81   C1CCC(C1)N2C=NC3=C(N=C(N=C32)NC4CCC(CC4)N)NCC5...   \n",
       "82   COC1=C(NC=C1)C=C2C3=C(C=CC(=C3C#CC4(CCNCC4)O)F...   \n",
       "97   CC12C(C(CC(O1)N3C4=CC=CC=C4C5=C6C(=C7C8=CC=CC=...   \n",
       "100  C1=CNC(=C1)C2=C3C4=C(C=CC(=C4C(=C2)SCCN)F)NC3=...   \n",
       "129  C1CCC(C1)N2C=NC3=C(N=C(N=C32)NC4CCC(CC4)N)NC5C...   \n",
       "\n",
       "                                             Molecule  \\\n",
       "81   <rdkit.Chem.rdchem.Mol object at 0x7f54fbbd1d90>   \n",
       "82   <rdkit.Chem.rdchem.Mol object at 0x7f54fbbd1e00>   \n",
       "97   <rdkit.Chem.rdchem.Mol object at 0x7f54fbbd2420>   \n",
       "100  <rdkit.Chem.rdchem.Mol object at 0x7f54fbbd2570>   \n",
       "129  <rdkit.Chem.rdchem.Mol object at 0x7f54fbbd3220>   \n",
       "\n",
       "                                           Fingerprint  predicted  \\\n",
       "81   [0, 0, 0, 0, 0, 0, 0, 0, 0, 1, 0, 0, 0, 0, 0, ...          0   \n",
       "82   [0, 0, 0, 0, 0, 0, 0, 0, 0, 0, 0, 0, 0, 0, 0, ...          0   \n",
       "97   [0, 0, 0, 0, 1, 0, 0, 0, 0, 0, 0, 0, 0, 0, 0, ...          0   \n",
       "100  [0, 0, 0, 0, 0, 0, 0, 0, 0, 0, 0, 0, 0, 0, 0, ...          0   \n",
       "129  [0, 1, 0, 0, 0, 0, 0, 0, 0, 1, 0, 0, 0, 0, 0, ...          0   \n",
       "\n",
       "     predicted_proba  \n",
       "81          0.711335  \n",
       "82          0.541099  \n",
       "97          0.770492  \n",
       "100         0.709016  \n",
       "129         0.513130  "
      ]
     },
     "execution_count": 35,
     "metadata": {},
     "output_type": "execute_result"
    }
   ],
   "source": [
    "df_ai_non_docked = df_ai[~df_ai[\"cid\"].isin(df_docked[\"cid\"])]\n",
    "df_ai_non_docked.head()"
   ]
  },
  {
   "cell_type": "markdown",
   "id": "b2169a75",
   "metadata": {},
   "source": [
    "## merjing the ai docked with the doced min energy"
   ]
  },
  {
   "cell_type": "code",
   "execution_count": 36,
   "id": "e1802823",
   "metadata": {},
   "outputs": [
    {
     "data": {
      "text/plain": [
       "list[0            1605\n",
       "1            3543\n",
       "2            4566\n",
       "3            5279\n",
       "4           44259\n",
       "          ...    \n",
       "3101    155736989\n",
       "3102    155737034\n",
       "3103    156272922\n",
       "3104    156274784\n",
       "3105    156286227\n",
       "Name: cid, Length: 3106, dtype: int64]"
      ]
     },
     "execution_count": 36,
     "metadata": {},
     "output_type": "execute_result"
    }
   ],
   "source": [
    "list[df_ai.cid]"
   ]
  },
  {
   "cell_type": "code",
   "execution_count": 37,
   "id": "9c116cf3",
   "metadata": {},
   "outputs": [
    {
     "data": {
      "text/plain": [
       "list[2465         1605\n",
       "227          3543\n",
       "2544         4566\n",
       "466          5279\n",
       "1697        44259\n",
       "          ...    \n",
       "707     155559734\n",
       "396     155564128\n",
       "2041    156272922\n",
       "2086    156274784\n",
       "507     156286227\n",
       "Name: cid, Length: 2856, dtype: int64]"
      ]
     },
     "execution_count": 37,
     "metadata": {},
     "output_type": "execute_result"
    }
   ],
   "source": [
    "list[df_docked.cid]"
   ]
  },
  {
   "cell_type": "code",
   "execution_count": 38,
   "id": "a592e7b2",
   "metadata": {},
   "outputs": [
    {
     "data": {
      "text/plain": [
       "list[0            1605\n",
       "1            3543\n",
       "2            4566\n",
       "3            5279\n",
       "4           44259\n",
       "          ...    \n",
       "2851    155559734\n",
       "2852    155564128\n",
       "2853    156272922\n",
       "2854    156274784\n",
       "2855    156286227\n",
       "Name: cid, Length: 2856, dtype: int64]"
      ]
     },
     "execution_count": 38,
     "metadata": {},
     "output_type": "execute_result"
    }
   ],
   "source": [
    "list[df_ai_docked.cid]"
   ]
  },
  {
   "cell_type": "code",
   "execution_count": 39,
   "id": "3762f451",
   "metadata": {},
   "outputs": [],
   "source": [
    "#saving\n",
    "df_ai_non_docked.to_csv(\"active_final_non_docked.csv\")\n",
    "df_ai_docked.to_csv(\"active_ai_and_docked.csv\")"
   ]
  },
  {
   "cell_type": "markdown",
   "id": "b9044d04",
   "metadata": {},
   "source": [
    "## devidng the docked into groups"
   ]
  },
  {
   "cell_type": "code",
   "execution_count": 40,
   "id": "e4105aae",
   "metadata": {
    "scrolled": true
   },
   "outputs": [
    {
     "data": {
      "text/html": [
       "<div>\n",
       "<style scoped>\n",
       "    .dataframe tbody tr th:only-of-type {\n",
       "        vertical-align: middle;\n",
       "    }\n",
       "\n",
       "    .dataframe tbody tr th {\n",
       "        vertical-align: top;\n",
       "    }\n",
       "\n",
       "    .dataframe thead th {\n",
       "        text-align: right;\n",
       "    }\n",
       "</style>\n",
       "<table border=\"1\" class=\"dataframe\">\n",
       "  <thead>\n",
       "    <tr style=\"text-align: right;\">\n",
       "      <th></th>\n",
       "      <th>cid</th>\n",
       "      <th>cmpdname</th>\n",
       "      <th>canonicalsmiles</th>\n",
       "      <th>Molecule</th>\n",
       "      <th>Fingerprint</th>\n",
       "      <th>predicted</th>\n",
       "      <th>predicted_proba</th>\n",
       "      <th>min_energy</th>\n",
       "    </tr>\n",
       "  </thead>\n",
       "  <tbody>\n",
       "    <tr>\n",
       "      <th>2560</th>\n",
       "      <td>134166152</td>\n",
       "      <td>N-[(16E)-14-methyl-20-oxa-5,7,14,27-tetrazatet...</td>\n",
       "      <td>CN1CC=CCCOC2=CC=CC(=C2)C3=NC(=NC=C3)NC4=CC(=CC...</td>\n",
       "      <td>&lt;rdkit.Chem.rdchem.Mol object at 0x7f54fba1fca0&gt;</td>\n",
       "      <td>[0, 0, 0, 0, 0, 0, 0, 0, 0, 0, 0, 0, 1, 0, 0, ...</td>\n",
       "      <td>0</td>\n",
       "      <td>0.569418</td>\n",
       "      <td>-16.991</td>\n",
       "    </tr>\n",
       "    <tr>\n",
       "      <th>1686</th>\n",
       "      <td>59772878</td>\n",
       "      <td>N-[(2S,3R,4R,6R)-3-methoxy-2-methyl-16-oxo-29-...</td>\n",
       "      <td>CC1=CC=C(C=C1)C(=O)N(C)C2CC3N4C5=CC=CC=C5C6=C7...</td>\n",
       "      <td>&lt;rdkit.Chem.rdchem.Mol object at 0x7f54fba05460&gt;</td>\n",
       "      <td>[0, 0, 0, 0, 1, 0, 0, 0, 0, 0, 0, 0, 0, 0, 0, ...</td>\n",
       "      <td>0</td>\n",
       "      <td>0.508237</td>\n",
       "      <td>-16.243</td>\n",
       "    </tr>\n",
       "    <tr>\n",
       "      <th>1285</th>\n",
       "      <td>44352914</td>\n",
       "      <td>2-chloro-N-[(2R,3S,4S,6S)-3-methoxy-2-methyl-1...</td>\n",
       "      <td>CC12C(C(CC(O1)N3C4=CC=CC=C4C5=C6C(=C7C8=CC=CC=...</td>\n",
       "      <td>&lt;rdkit.Chem.rdchem.Mol object at 0x7f54fb9fa180&gt;</td>\n",
       "      <td>[0, 0, 0, 0, 1, 0, 0, 0, 0, 0, 0, 0, 0, 0, 0, ...</td>\n",
       "      <td>0</td>\n",
       "      <td>0.524631</td>\n",
       "      <td>-16.209</td>\n",
       "    </tr>\n",
       "    <tr>\n",
       "      <th>2831</th>\n",
       "      <td>155381507</td>\n",
       "      <td>2-chloro-N-[(2S,3R,4R,6R)-3-methoxy-2-methyl-1...</td>\n",
       "      <td>CC12C(C(CC(O1)N3C4=CC=CC=C4C5=C6C(=C7C8=CC=CC=...</td>\n",
       "      <td>&lt;rdkit.Chem.rdchem.Mol object at 0x7f54fba28820&gt;</td>\n",
       "      <td>[0, 0, 0, 0, 1, 0, 0, 0, 0, 0, 0, 0, 0, 0, 0, ...</td>\n",
       "      <td>0</td>\n",
       "      <td>0.524631</td>\n",
       "      <td>-16.198</td>\n",
       "    </tr>\n",
       "    <tr>\n",
       "      <th>2567</th>\n",
       "      <td>134166175</td>\n",
       "      <td>N-[(16E)-14-methyl-20-oxa-5,7,14,27-tetrazatet...</td>\n",
       "      <td>CN1CC=CCCOC2=CC=CC(=C2)C3=NC(=NC=C3)NC4=CC(=CC...</td>\n",
       "      <td>&lt;rdkit.Chem.rdchem.Mol object at 0x7f54fba20040&gt;</td>\n",
       "      <td>[0, 0, 0, 0, 0, 0, 0, 0, 0, 0, 0, 0, 1, 0, 0, ...</td>\n",
       "      <td>0</td>\n",
       "      <td>0.536632</td>\n",
       "      <td>-16.180</td>\n",
       "    </tr>\n",
       "  </tbody>\n",
       "</table>\n",
       "</div>"
      ],
      "text/plain": [
       "            cid                                           cmpdname  \\\n",
       "2560  134166152  N-[(16E)-14-methyl-20-oxa-5,7,14,27-tetrazatet...   \n",
       "1686   59772878  N-[(2S,3R,4R,6R)-3-methoxy-2-methyl-16-oxo-29-...   \n",
       "1285   44352914  2-chloro-N-[(2R,3S,4S,6S)-3-methoxy-2-methyl-1...   \n",
       "2831  155381507  2-chloro-N-[(2S,3R,4R,6R)-3-methoxy-2-methyl-1...   \n",
       "2567  134166175  N-[(16E)-14-methyl-20-oxa-5,7,14,27-tetrazatet...   \n",
       "\n",
       "                                        canonicalsmiles  \\\n",
       "2560  CN1CC=CCCOC2=CC=CC(=C2)C3=NC(=NC=C3)NC4=CC(=CC...   \n",
       "1686  CC1=CC=C(C=C1)C(=O)N(C)C2CC3N4C5=CC=CC=C5C6=C7...   \n",
       "1285  CC12C(C(CC(O1)N3C4=CC=CC=C4C5=C6C(=C7C8=CC=CC=...   \n",
       "2831  CC12C(C(CC(O1)N3C4=CC=CC=C4C5=C6C(=C7C8=CC=CC=...   \n",
       "2567  CN1CC=CCCOC2=CC=CC(=C2)C3=NC(=NC=C3)NC4=CC(=CC...   \n",
       "\n",
       "                                              Molecule  \\\n",
       "2560  <rdkit.Chem.rdchem.Mol object at 0x7f54fba1fca0>   \n",
       "1686  <rdkit.Chem.rdchem.Mol object at 0x7f54fba05460>   \n",
       "1285  <rdkit.Chem.rdchem.Mol object at 0x7f54fb9fa180>   \n",
       "2831  <rdkit.Chem.rdchem.Mol object at 0x7f54fba28820>   \n",
       "2567  <rdkit.Chem.rdchem.Mol object at 0x7f54fba20040>   \n",
       "\n",
       "                                            Fingerprint  predicted  \\\n",
       "2560  [0, 0, 0, 0, 0, 0, 0, 0, 0, 0, 0, 0, 1, 0, 0, ...          0   \n",
       "1686  [0, 0, 0, 0, 1, 0, 0, 0, 0, 0, 0, 0, 0, 0, 0, ...          0   \n",
       "1285  [0, 0, 0, 0, 1, 0, 0, 0, 0, 0, 0, 0, 0, 0, 0, ...          0   \n",
       "2831  [0, 0, 0, 0, 1, 0, 0, 0, 0, 0, 0, 0, 0, 0, 0, ...          0   \n",
       "2567  [0, 0, 0, 0, 0, 0, 0, 0, 0, 0, 0, 0, 1, 0, 0, ...          0   \n",
       "\n",
       "      predicted_proba  min_energy  \n",
       "2560         0.569418     -16.991  \n",
       "1686         0.508237     -16.243  \n",
       "1285         0.524631     -16.209  \n",
       "2831         0.524631     -16.198  \n",
       "2567         0.536632     -16.180  "
      ]
     },
     "execution_count": 40,
     "metadata": {},
     "output_type": "execute_result"
    }
   ],
   "source": [
    "df_ai_docked_sorted=df_ai_docked.sort_values(by=\"min_energy\")\n",
    "df_ai_docked_sorted.head()"
   ]
  },
  {
   "cell_type": "code",
   "execution_count": 41,
   "id": "208b3079",
   "metadata": {},
   "outputs": [],
   "source": [
    "df_ai_docked_sorted.to_csv(\"final_tables/table2 df_ai_docked_sorted.csv\")"
   ]
  },
  {
   "cell_type": "markdown",
   "id": "02d2caaf",
   "metadata": {},
   "source": [
    "## separating the data into groups according to the structure"
   ]
  },
  {
   "cell_type": "code",
   "execution_count": 79,
   "id": "03a29297",
   "metadata": {},
   "outputs": [
    {
     "data": {
      "text/plain": [
       "count    219.000000\n",
       "mean     -11.862909\n",
       "std        1.916928\n",
       "min      -16.243000\n",
       "25%      -12.878000\n",
       "50%      -11.918000\n",
       "75%      -10.297500\n",
       "max       -7.664000\n",
       "Name: min_energy, dtype: float64"
      ]
     },
     "execution_count": 79,
     "metadata": {},
     "output_type": "execute_result"
    }
   ],
   "source": [
    "df_benzamides = df_ai_docked_sorted[df_ai_docked_sorted['cmpdname'].str.contains('benzamide', case=False)]\n",
    "df_benzamides.to_csv(\"final_tables/active benzamides 219.csv\")\n",
    "df_benzamides.shape\n",
    "\n",
    "df_benzamides.min_energy.describe()"
   ]
  },
  {
   "cell_type": "code",
   "execution_count": 80,
   "id": "f92dcdb3",
   "metadata": {},
   "outputs": [
    {
     "data": {
      "text/plain": [
       "count    21.000000\n",
       "mean    -13.158238\n",
       "std       2.246302\n",
       "min     -16.165000\n",
       "25%     -14.904000\n",
       "50%     -14.148000\n",
       "75%     -11.197000\n",
       "max      -9.140000\n",
       "Name: min_energy, dtype: float64"
      ]
     },
     "execution_count": 80,
     "metadata": {},
     "output_type": "execute_result"
    }
   ],
   "source": [
    "df_carbamates = df_ai_docked_sorted[df_ai_docked_sorted['cmpdname'].str.contains('carbamate', case=False)]\n",
    "df_carbamates.to_csv(\"final_tables/active carbamates 21.csv\")\n",
    "df_carbamates.shape\n",
    "df_carbamates.min_energy.describe()"
   ]
  },
  {
   "cell_type": "code",
   "execution_count": 82,
   "id": "211281e8",
   "metadata": {},
   "outputs": [
    {
     "data": {
      "text/plain": [
       "count    296.000000\n",
       "mean     -12.076145\n",
       "std        1.431941\n",
       "min      -16.991000\n",
       "25%      -12.927000\n",
       "50%      -11.902500\n",
       "75%      -11.141500\n",
       "max       -8.767000\n",
       "Name: min_energy, dtype: float64"
      ]
     },
     "execution_count": 82,
     "metadata": {},
     "output_type": "execute_result"
    }
   ],
   "source": [
    "df_carboxamide = df_ai_docked_sorted[df_ai_docked_sorted['cmpdname'].str.contains('carboxamide', case=False)]\n",
    "df_carboxamide.to_csv(\"final_tables/active carboxamides 296.csv\")\n",
    "df_carboxamide.shape\n",
    "\n",
    "df_carboxamide.min_energy.describe()"
   ]
  },
  {
   "cell_type": "code",
   "execution_count": 84,
   "id": "ef5317de",
   "metadata": {},
   "outputs": [
    {
     "data": {
      "text/plain": [
       "count    31.000000\n",
       "mean    -11.655484\n",
       "std       1.690627\n",
       "min     -15.914000\n",
       "25%     -11.914000\n",
       "50%     -11.579000\n",
       "75%     -10.351500\n",
       "max      -9.988000\n",
       "Name: min_energy, dtype: float64"
      ]
     },
     "execution_count": 84,
     "metadata": {},
     "output_type": "execute_result"
    }
   ],
   "source": [
    "\n",
    "df_propanamide = df_ai_docked_sorted[df_ai_docked_sorted['cmpdname'].str.contains('propanamide', case=False)]\n",
    "df_propanamide.to_csv(\"final_tables/active propanamide 31.csv\")\n",
    "df_propanamide.shape\n",
    "\n",
    "df_propanamide.min_energy.describe()"
   ]
  },
  {
   "cell_type": "code",
   "execution_count": 85,
   "id": "7c6afc05",
   "metadata": {},
   "outputs": [
    {
     "data": {
      "text/plain": [
       "count    18.000000\n",
       "mean    -10.789778\n",
       "std       2.132021\n",
       "min     -15.721000\n",
       "25%     -11.778000\n",
       "50%      -9.840000\n",
       "75%      -9.210750\n",
       "max      -8.890000\n",
       "Name: min_energy, dtype: float64"
      ]
     },
     "execution_count": 85,
     "metadata": {},
     "output_type": "execute_result"
    }
   ],
   "source": [
    "df_benzoic_acid = df_ai_docked_sorted[df_ai_docked_sorted['cmpdname'].str.contains('benzoic acid', case=False)]\n",
    "df_benzoic_acid.to_csv(\"final_tables/active benzoic acid 18.csv\")\n",
    "df_benzoic_acid.shape\n",
    "\n",
    "df_benzoic_acid.min_energy.describe()"
   ]
  },
  {
   "cell_type": "code",
   "execution_count": 86,
   "id": "edef95fe",
   "metadata": {},
   "outputs": [
    {
     "data": {
      "text/plain": [
       "count    158.000000\n",
       "mean     -12.000551\n",
       "std        1.642404\n",
       "min      -15.537000\n",
       "25%      -12.911750\n",
       "50%      -11.826500\n",
       "75%      -10.682000\n",
       "max       -9.069000\n",
       "Name: min_energy, dtype: float64"
      ]
     },
     "execution_count": 86,
     "metadata": {},
     "output_type": "execute_result"
    }
   ],
   "source": [
    "df_acetamide = df_ai_docked_sorted[df_ai_docked_sorted['cmpdname'].str.contains('acetamide', case=False)]\n",
    "df_acetamide.to_csv(\"final_tables/active acetamide 158.csv\")\n",
    "\n",
    "df_acetamide.shape\n",
    "\n",
    "df_acetamide.min_energy.describe()"
   ]
  },
  {
   "cell_type": "code",
   "execution_count": 87,
   "id": "b9f41eae",
   "metadata": {},
   "outputs": [
    {
     "data": {
      "text/plain": [
       "count     8.000000\n",
       "mean    -10.890875\n",
       "std       1.904931\n",
       "min     -15.468000\n",
       "25%     -10.631000\n",
       "50%     -10.542500\n",
       "75%     -10.050250\n",
       "max      -9.383000\n",
       "Name: min_energy, dtype: float64"
      ]
     },
     "execution_count": 87,
     "metadata": {},
     "output_type": "execute_result"
    }
   ],
   "source": [
    "df_formamide = df_ai_docked_sorted[df_ai_docked_sorted['cmpdname'].str.contains('formamide', case=False)]\n",
    "df_formamide.to_csv(\"final_tables/active formamides 8.csv\")\n",
    "\n",
    "df_formamide.shape\n",
    "\n",
    "df_formamide.min_energy.describe()"
   ]
  },
  {
   "cell_type": "code",
   "execution_count": 88,
   "id": "d9647822",
   "metadata": {},
   "outputs": [
    {
     "data": {
      "text/plain": [
       "count     2.000000\n",
       "mean    -13.922500\n",
       "std       2.061216\n",
       "min     -15.380000\n",
       "25%     -14.651250\n",
       "50%     -13.922500\n",
       "75%     -13.193750\n",
       "max     -12.465000\n",
       "Name: min_energy, dtype: float64"
      ]
     },
     "execution_count": 88,
     "metadata": {},
     "output_type": "execute_result"
    }
   ],
   "source": [
    "df_carbothioamide = df_ai_docked_sorted[df_ai_docked_sorted['cmpdname'].str.contains('carbothioamide', case=False)]\n",
    "df_carbothioamide.to_csv(\"final_tables/active carbothioamide 2.csv\")\n",
    "\n",
    "df_carbothioamide.shape\n",
    "\n",
    "df_carbothioamide.min_energy.describe()"
   ]
  },
  {
   "cell_type": "code",
   "execution_count": 89,
   "id": "964545a0",
   "metadata": {},
   "outputs": [
    {
     "data": {
      "text/plain": [
       "count    214.000000\n",
       "mean     -12.243748\n",
       "std        1.072190\n",
       "min      -15.244000\n",
       "25%      -12.834250\n",
       "50%      -12.432000\n",
       "75%      -11.828000\n",
       "max       -9.115000\n",
       "Name: min_energy, dtype: float64"
      ]
     },
     "execution_count": 89,
     "metadata": {},
     "output_type": "execute_result"
    }
   ],
   "source": [
    "df_urea = df_ai_docked_sorted[df_ai_docked_sorted['cmpdname'].str.contains('urea', case=False)]\n",
    "df_urea.to_csv(\"final_tables/active urea 214.csv\")\n",
    "df_urea.shape\n",
    "\n",
    "df_urea.min_energy.describe()"
   ]
  },
  {
   "cell_type": "code",
   "execution_count": 90,
   "id": "2addcc90",
   "metadata": {},
   "outputs": [
    {
     "data": {
      "text/plain": [
       "count    18.000000\n",
       "mean    -13.171333\n",
       "std       2.222563\n",
       "min     -15.220000\n",
       "25%     -14.889750\n",
       "50%     -14.590500\n",
       "75%     -10.740250\n",
       "max      -9.638000\n",
       "Name: min_energy, dtype: float64"
      ]
     },
     "execution_count": 90,
     "metadata": {},
     "output_type": "execute_result"
    }
   ],
   "source": [
    "df_azanium = df_ai_docked_sorted[df_ai_docked_sorted['cmpdname'].str.contains('azanium', case=False)]\n",
    "df_azanium.to_csv(\"final_tables/active azanium.csv\")\n",
    "df_azanium.shape\n",
    "\n",
    "df_azanium.min_energy.describe()"
   ]
  },
  {
   "cell_type": "code",
   "execution_count": 91,
   "id": "ddac43b6",
   "metadata": {},
   "outputs": [
    {
     "data": {
      "text/plain": [
       "count     1.000\n",
       "mean    -15.173\n",
       "std         NaN\n",
       "min     -15.173\n",
       "25%     -15.173\n",
       "50%     -15.173\n",
       "75%     -15.173\n",
       "max     -15.173\n",
       "Name: min_energy, dtype: float64"
      ]
     },
     "execution_count": 91,
     "metadata": {},
     "output_type": "execute_result"
    }
   ],
   "source": [
    "df_amine_oxide = df_ai_docked_sorted[df_ai_docked_sorted['cmpdname'].str.contains('amine oxide', case=False)]\n",
    "df_amine_oxide.to_csv(\"final_tables/active amine_oxide 1.csv\")\n",
    "df_amine_oxide.shape\n",
    "\n",
    "\n",
    "df_amine_oxide.min_energy.describe()"
   ]
  },
  {
   "cell_type": "code",
   "execution_count": 92,
   "id": "09fc18a7",
   "metadata": {},
   "outputs": [
    {
     "data": {
      "text/plain": [
       "count    13.000000\n",
       "mean    -14.825846\n",
       "std       0.512046\n",
       "min     -15.424000\n",
       "25%     -15.122000\n",
       "50%     -14.884000\n",
       "75%     -14.766000\n",
       "max     -13.781000\n",
       "Name: min_energy, dtype: float64"
      ]
     },
     "execution_count": 92,
     "metadata": {},
     "output_type": "execute_result"
    }
   ],
   "source": [
    "df_staurosporine = df_ai_docked_sorted[df_ai_docked_sorted['cmpdname'].str.contains('staurosporine', case=False)]\n",
    "df_staurosporine.to_csv(\"final_tables/active staurosporine 13.csv\")\n",
    "df_staurosporine.shape\n",
    "\n",
    "\n",
    "df_staurosporine.min_energy.describe()"
   ]
  },
  {
   "cell_type": "code",
   "execution_count": 93,
   "id": "f06667d6",
   "metadata": {},
   "outputs": [
    {
     "data": {
      "text/plain": [
       "count    102.000000\n",
       "mean     -14.708000\n",
       "std        0.567891\n",
       "min      -16.073000\n",
       "25%      -15.021000\n",
       "50%      -14.799000\n",
       "75%      -14.431000\n",
       "max      -12.208000\n",
       "Name: min_energy, dtype: float64"
      ]
     },
     "execution_count": 93,
     "metadata": {},
     "output_type": "execute_result"
    }
   ],
   "source": [
    "df_nonaen_x_one = df_ai_docked_sorted[df_ai_docked_sorted['cmpdname'].str.contains('nonaen-3-one', case=False) |\n",
    "                               df_ai_docked_sorted['cmpdname'].str.contains('nonaen-6-one', case=False) |\n",
    "                                                  df_ai_docked_sorted['cmpdname'].str.contains('nonaen-12-one', case=False) |\n",
    "                                                                     df_ai_docked_sorted['cmpdname'].str.contains('nonaen-16-one', case=False) |\n",
    "                                                                                        df_ai_docked_sorted['cmpdname'].str.contains('nonaen-19-one', case=False)]\n",
    "df_nonaen_x_one.to_csv(\"final_tables/active nonaen-x_one.csv\")\n",
    "df_nonaen_x_one.shape\n",
    "\n",
    "\n",
    "df_nonaen_x_one.min_energy.describe()"
   ]
  },
  {
   "cell_type": "code",
   "execution_count": 94,
   "id": "738a27d9",
   "metadata": {},
   "outputs": [
    {
     "data": {
      "text/plain": [
       "count    76.000000\n",
       "mean    -11.974842\n",
       "std       1.257964\n",
       "min     -14.923000\n",
       "25%     -12.531000\n",
       "50%     -11.746500\n",
       "75%     -11.224250\n",
       "max     -10.205000\n",
       "Name: min_energy, dtype: float64"
      ]
     },
     "execution_count": 94,
     "metadata": {},
     "output_type": "execute_result"
    }
   ],
   "source": [
    "df_enamide = df_ai_docked_sorted[df_ai_docked_sorted['cmpdname'].str.contains('enamide', case=False)]\n",
    "df_enamide.to_csv(\"final_tables/active enamides 76.csv\")\n",
    "df_enamide.shape\n",
    "\n",
    "\n",
    "df_enamide.min_energy.describe()"
   ]
  },
  {
   "cell_type": "code",
   "execution_count": 95,
   "id": "6ec19f9a",
   "metadata": {},
   "outputs": [
    {
     "data": {
      "text/plain": [
       "count     7.000000\n",
       "mean    -14.533286\n",
       "std       0.859456\n",
       "min     -15.114000\n",
       "25%     -14.808000\n",
       "50%     -14.803000\n",
       "75%     -14.799000\n",
       "max     -12.602000\n",
       "Name: min_energy, dtype: float64"
      ]
     },
     "execution_count": 95,
     "metadata": {},
     "output_type": "execute_result"
    }
   ],
   "source": [
    "df_octaen = df_ai_docked_sorted[df_ai_docked_sorted['cmpdname'].str.contains('octaen', case=False)]\n",
    "df_octaen.to_csv(\"final_tables/active octaen 7.csv\")\n",
    "df_octaen.shape\n",
    "\n",
    "\n",
    "df_octaen.min_energy.describe()"
   ]
  },
  {
   "cell_type": "code",
   "execution_count": 96,
   "id": "7fac2541",
   "metadata": {},
   "outputs": [
    {
     "data": {
      "text/plain": [
       "count     7.000000\n",
       "mean    -13.195286\n",
       "std       0.965132\n",
       "min     -14.798000\n",
       "25%     -13.647000\n",
       "50%     -12.754000\n",
       "75%     -12.588500\n",
       "max     -12.344000\n",
       "Name: min_energy, dtype: float64"
      ]
     },
     "execution_count": 96,
     "metadata": {},
     "output_type": "execute_result"
    }
   ],
   "source": [
    "df_heptaen = df_ai_docked_sorted[df_ai_docked_sorted['cmpdname'].str.contains('heptaen', case=False)]\n",
    "df_heptaen.to_csv(\"final_tables/active heptaen 7.csv\")\n",
    "df_heptaen.shape\n",
    "\n",
    "\n",
    "df_heptaen.min_energy.describe()"
   ]
  },
  {
   "cell_type": "code",
   "execution_count": 97,
   "id": "10d48d31",
   "metadata": {},
   "outputs": [
    {
     "data": {
      "text/plain": [
       "count     5.000000\n",
       "mean    -11.352400\n",
       "std       1.821149\n",
       "min     -14.246000\n",
       "25%     -11.496000\n",
       "50%     -11.362000\n",
       "75%     -10.169000\n",
       "max      -9.489000\n",
       "Name: min_energy, dtype: float64"
      ]
     },
     "execution_count": 97,
     "metadata": {},
     "output_type": "execute_result"
    }
   ],
   "source": [
    "df_acetic_acid = df_ai_docked_sorted[df_ai_docked_sorted['cmpdname'].str.contains('acetic acid', case=False)]\n",
    "df_acetic_acid.to_csv(\"final_tables/active acetic acid 5.csv\")\n",
    "\n",
    "df_acetic_acid.shape\n",
    "\n",
    "\n",
    "df_acetic_acid.min_energy.describe()"
   ]
  },
  {
   "cell_type": "code",
   "execution_count": 98,
   "id": "7b15e254",
   "metadata": {},
   "outputs": [
    {
     "data": {
      "text/plain": [
       "count    451.000000\n",
       "mean     -10.021545\n",
       "std        1.266110\n",
       "min      -14.077000\n",
       "25%      -10.837000\n",
       "50%       -9.887000\n",
       "75%       -9.099000\n",
       "max       -6.802000\n",
       "Name: min_energy, dtype: float64"
      ]
     },
     "execution_count": 98,
     "metadata": {},
     "output_type": "execute_result"
    }
   ],
   "source": [
    "df_sulfonamide = df_ai_docked_sorted[df_ai_docked_sorted['cmpdname'].str.contains('sulfonamide', case=False)]\n",
    "df_sulfonamide.to_csv(\"final_tables/active sulfonamide 451.csv\")\n",
    "df_sulfonamide.shape\n",
    "# df_sulfonamide.shape\n",
    "\n",
    "\n",
    "df_sulfonamide.min_energy.describe()"
   ]
  },
  {
   "cell_type": "code",
   "execution_count": 99,
   "id": "a163d44e",
   "metadata": {},
   "outputs": [
    {
     "data": {
      "text/plain": [
       "count    75.000000\n",
       "mean    -11.361467\n",
       "std       1.178186\n",
       "min     -14.049000\n",
       "25%     -12.077000\n",
       "50%     -11.789000\n",
       "75%     -10.762000\n",
       "max      -8.608000\n",
       "Name: min_energy, dtype: float64"
      ]
     },
     "execution_count": 99,
     "metadata": {},
     "output_type": "execute_result"
    }
   ],
   "source": [
    "df_diamine = df_ai_docked_sorted[df_ai_docked_sorted['cmpdname'].str.contains('diamine', case=False)]\n",
    "df_diamine.to_csv(\"final_tables/active diamine 75.csv\")\n",
    "\n",
    "df_diamine.shape\n",
    "df_diamine.min_energy.describe()"
   ]
  },
  {
   "cell_type": "code",
   "execution_count": 100,
   "id": "36d43819",
   "metadata": {},
   "outputs": [
    {
     "data": {
      "text/plain": [
       "count    13.000000\n",
       "mean    -10.744385\n",
       "std       1.665859\n",
       "min     -13.781000\n",
       "25%     -11.046000\n",
       "50%     -10.858000\n",
       "75%      -9.858000\n",
       "max      -7.815000\n",
       "Name: min_energy, dtype: float64"
      ]
     },
     "execution_count": 100,
     "metadata": {},
     "output_type": "execute_result"
    }
   ],
   "source": [
    "df_acetate = df_ai_docked_sorted[df_ai_docked_sorted['cmpdname'].str.contains('acetate', case=False)]\n",
    "df_acetate.to_csv(\"final_tables/active acetate 13.csv\")\n",
    "\n",
    "df_acetate.shape\n",
    "\n",
    "\n",
    "\n",
    "df_acetate.min_energy.describe()"
   ]
  },
  {
   "cell_type": "code",
   "execution_count": 101,
   "id": "04d75689",
   "metadata": {},
   "outputs": [
    {
     "data": {
      "text/plain": [
       "count     3.000000\n",
       "mean    -12.410333\n",
       "std       2.044615\n",
       "min     -13.636000\n",
       "25%     -13.590500\n",
       "50%     -13.545000\n",
       "75%     -11.797500\n",
       "max     -10.050000\n",
       "Name: min_energy, dtype: float64"
      ]
     },
     "execution_count": 101,
     "metadata": {},
     "output_type": "execute_result"
    }
   ],
   "source": [
    "df_propanenitrile = df_ai_docked_sorted[df_ai_docked_sorted['cmpdname'].str.contains('propanenitrile', case=False)]\n",
    "df_propanenitrile.to_csv(\"final_tables/vip3 active propanenitrile 3.csv\")\n",
    "df_propanenitrile.shape\n",
    "df_propanenitrile.min_energy.describe()"
   ]
  },
  {
   "cell_type": "code",
   "execution_count": 102,
   "id": "cf38165a",
   "metadata": {},
   "outputs": [
    {
     "data": {
      "text/plain": [
       "count    19.000000\n",
       "mean    -10.802737\n",
       "std       1.056967\n",
       "min     -13.414000\n",
       "25%     -11.058000\n",
       "50%     -10.593000\n",
       "75%     -10.082000\n",
       "max      -9.573000\n",
       "Name: min_energy, dtype: float64"
      ]
     },
     "execution_count": 102,
     "metadata": {},
     "output_type": "execute_result"
    }
   ],
   "source": [
    "df_methanol = df_ai_docked_sorted[df_ai_docked_sorted['cmpdname'].str.contains('methanol', case=False)]\n",
    "df_methanol.to_csv(\"final_tables/active methanol 19.csv\")\n",
    "df_methanol.shape\n",
    "\n",
    "df_methanol.min_energy.describe()"
   ]
  },
  {
   "cell_type": "code",
   "execution_count": 103,
   "id": "52190d72",
   "metadata": {
    "scrolled": true
   },
   "outputs": [
    {
     "data": {
      "text/plain": [
       "count    181.000000\n",
       "mean     -10.936834\n",
       "std        0.723753\n",
       "min      -13.226000\n",
       "25%      -11.348000\n",
       "50%      -10.937000\n",
       "75%      -10.607000\n",
       "max       -8.049000\n",
       "Name: min_energy, dtype: float64"
      ]
     },
     "execution_count": 103,
     "metadata": {},
     "output_type": "execute_result"
    }
   ],
   "source": [
    "df_methanone = df_ai_docked_sorted[df_ai_docked_sorted['cmpdname'].str.contains('methanone', case=False)]\n",
    "df_methanone.to_csv(\"final_tables/active methanone 181.csv\")\n",
    "df_methanone.shape\n",
    "\n",
    "df_methanone.min_energy.describe()"
   ]
  },
  {
   "cell_type": "code",
   "execution_count": 104,
   "id": "ffc3414d",
   "metadata": {},
   "outputs": [
    {
     "data": {
      "text/plain": [
       "count    226.000000\n",
       "mean     -10.214527\n",
       "std        0.899520\n",
       "min      -12.935000\n",
       "25%      -10.697250\n",
       "50%      -10.199000\n",
       "75%       -9.773250\n",
       "max       -7.483000\n",
       "Name: min_energy, dtype: float64"
      ]
     },
     "execution_count": 104,
     "metadata": {},
     "output_type": "execute_result"
    }
   ],
   "source": [
    "df_pyrimidin_amine = df_ai_docked_sorted[df_ai_docked_sorted['cmpdname'].str.contains('amine', case=False) & df_ai_docked_sorted['cmpdname'].str.contains('pyrimidin', case=False)]\n",
    "df_pyrimidin_amine.to_csv(\"final_tables/active pyrimidin_amine 226.csv\")\n",
    "df_pyrimidin_amine.shape\n",
    "\n",
    "df_pyrimidin_amine.min_energy.describe()"
   ]
  },
  {
   "cell_type": "code",
   "execution_count": 105,
   "id": "a72386ed",
   "metadata": {},
   "outputs": [
    {
     "data": {
      "text/plain": [
       "count    13.00000\n",
       "mean    -11.12800\n",
       "std       1.47996\n",
       "min     -13.41200\n",
       "25%     -11.97300\n",
       "50%     -11.56500\n",
       "75%      -9.66700\n",
       "max      -9.03800\n",
       "Name: min_energy, dtype: float64"
      ]
     },
     "execution_count": 105,
     "metadata": {},
     "output_type": "execute_result"
    }
   ],
   "source": [
    "df_carboxylate = df_ai_docked_sorted[df_ai_docked_sorted['cmpdname'].str.contains('carboxylate', case=False)]\n",
    "df_carboxylate.to_csv(\"final_tables/active carboxylate 13.csv\")\n",
    "df_carboxylate.shape\n",
    "\n",
    "df_carboxylate.min_energy.describe()"
   ]
  },
  {
   "cell_type": "code",
   "execution_count": 106,
   "id": "8cc3cc23",
   "metadata": {},
   "outputs": [
    {
     "data": {
      "text/plain": [
       "count     5.000000\n",
       "mean    -12.515800\n",
       "std       0.225924\n",
       "min     -12.760000\n",
       "25%     -12.631000\n",
       "50%     -12.605000\n",
       "75%     -12.398000\n",
       "max     -12.185000\n",
       "Name: min_energy, dtype: float64"
      ]
     },
     "execution_count": 106,
     "metadata": {},
     "output_type": "execute_result"
    }
   ],
   "source": [
    "df_phenol = df_ai_docked_sorted[df_ai_docked_sorted['cmpdname'].str.contains('phenol', case=False)]\n",
    "df_phenol.to_csv(\"final_tables/active phenol 5.csv\")\n",
    "df_phenol.shape\n",
    "\n",
    "df_phenol.min_energy.describe()"
   ]
  },
  {
   "cell_type": "code",
   "execution_count": 107,
   "id": "cccc900b",
   "metadata": {},
   "outputs": [
    {
     "data": {
      "text/plain": [
       "count    17.000000\n",
       "mean    -11.201118\n",
       "std       0.927620\n",
       "min     -14.002000\n",
       "25%     -11.366000\n",
       "50%     -11.035000\n",
       "75%     -10.746000\n",
       "max      -9.923000\n",
       "Name: min_energy, dtype: float64"
      ]
     },
     "execution_count": 107,
     "metadata": {},
     "output_type": "execute_result"
    }
   ],
   "source": [
    "df_ethanone = df_ai_docked_sorted[df_ai_docked_sorted['cmpdname'].str.contains('ethanone', case=False) & ~df_ai_docked_sorted['cmpdname'].str.contains('methanone', case=False)]\n",
    "df_ethanone.to_csv(\"final_tables/active ethanone 17.csv\")\n",
    "df_ethanone.shape\n",
    "\n",
    "df_ethanone.min_energy.describe()"
   ]
  },
  {
   "cell_type": "code",
   "execution_count": 69,
   "id": "9aff8ce2",
   "metadata": {},
   "outputs": [
    {
     "data": {
      "text/plain": [
       "energy_gps\n",
       ">-11         1449\n",
       "-13 : -11     941\n",
       "-15 : -13     348\n",
       "<-15          118\n",
       "Name: count, dtype: int64"
      ]
     },
     "execution_count": 69,
     "metadata": {},
     "output_type": "execute_result"
    }
   ],
   "source": [
    "bins=[-17,-15,-13,-11,0]\n",
    "labels=[\"<-15\",\"-15 : -13\", \"-13 : -11\", \">-11\"]\n",
    "df_ai_docked_sorted[\"energy_gps\"]=pd.cut(df_ai_docked_sorted.min_energy, bins=bins, labels=labels)\n",
    "df_ai_docked_sorted.energy_gps.value_counts()\n"
   ]
  },
  {
   "cell_type": "code",
   "execution_count": 70,
   "id": "b8da0c57",
   "metadata": {},
   "outputs": [],
   "source": [
    "#saving the groups\n",
    "group_A=df_ai_docked_sorted[df_ai_docked_sorted.energy_gps==\"<-15\"]\n",
    "group_B=df_ai_docked_sorted[df_ai_docked_sorted.energy_gps==\"-15 : -13\"]\n",
    "group_C=df_ai_docked_sorted[df_ai_docked_sorted.energy_gps==\"-13 : -11\"]\n",
    "group_D=df_ai_docked_sorted[df_ai_docked_sorted.energy_gps==\">-11\"]\n"
   ]
  },
  {
   "cell_type": "code",
   "execution_count": 71,
   "id": "3b24f2a8",
   "metadata": {},
   "outputs": [],
   "source": [
    "# saving\n",
    "group_A.to_csv(\"final_tables/group A.csv\")\n",
    "group_B.to_csv(\"final_tables/group B.csv\")\n",
    "group_C.to_csv(\"final_tables/group C.csv\")\n",
    "group_D.to_csv(\"final_tables/group D.csv\")\n"
   ]
  },
  {
   "cell_type": "markdown",
   "id": "b2c6b564",
   "metadata": {},
   "source": [
    "## plots"
   ]
  },
  {
   "cell_type": "code",
   "execution_count": 72,
   "id": "b2812910",
   "metadata": {
    "scrolled": true
   },
   "outputs": [
    {
     "data": {
      "image/png": "[encoded data removed]",
      "text/plain": [
       "<Figure size 800x600 with 1 Axes>"
      ]
     },
     "metadata": {},
     "output_type": "display_data"
    }
   ],
   "source": [
    "import pandas as pd\n",
    "import matplotlib.pyplot as plt\n",
    "\n",
    "# Assuming 'df' is your DataFrame\n",
    "plt.figure(figsize=(8, 6))\n",
    "df_ai_docked['min_energy'].plot(kind='box', rot=0)\n",
    "plt.title('Boxplot of Minimum Binding Energy')\n",
    "plt.ylabel('Minimum Energy [kcal/mol]')\n",
    "plt.savefig(\"plots/min_energy_boxplot.png\")"
   ]
  },
  {
   "cell_type": "code",
   "execution_count": 73,
   "id": "a7b49ce0",
   "metadata": {},
   "outputs": [
    {
     "data": {
      "image/png": "[encoded data removed]",
      "text/plain": [
       "<Figure size 800x600 with 1 Axes>"
      ]
     },
     "metadata": {},
     "output_type": "display_data"
    }
   ],
   "source": [
    "import pandas as pd\n",
    "import matplotlib.pyplot as plt\n",
    "\n",
    "# Assuming 'df' is your DataFrame\n",
    "plt.figure(figsize=(8, 6))\n",
    "df_ai_docked['predicted_proba'].plot(kind='box', rot=0)\n",
    "plt.title('Boxplot of the predicted probability')\n",
    "plt.ylabel('Predicted probability')\n",
    "plt.savefig(\"plots/predicted probability.png\")"
   ]
  },
  {
   "cell_type": "code",
   "execution_count": 74,
   "id": "fd00e1c6",
   "metadata": {
    "scrolled": true
   },
   "outputs": [
    {
     "data": {
      "image/png": "[encoded data removed]",
      "text/plain": [
       "<Figure size 800x600 with 1 Axes>"
      ]
     },
     "metadata": {},
     "output_type": "display_data"
    }
   ],
   "source": [
    "from sklearn.metrics import roc_curve, auc\n",
    "\n",
    "# Assuming you have X_test and y_test defined\n",
    "\n",
    "# Get the predicted probabilities for the positive class\n",
    "y_pred_proba = model.predict_proba(X_test)[:, 1]\n",
    "\n",
    "# Calculate the ROC curve\n",
    "fpr, tpr, thresholds = roc_curve(y_test, y_pred_proba)\n",
    "\n",
    "# Calculate the Area Under the Curve (AUC)\n",
    "roc_auc = auc(fpr, tpr)\n",
    "\n",
    "# Import libraries for plotting\n",
    "import matplotlib.pyplot as plt\n",
    "\n",
    "# Plot the ROC curve\n",
    "plt.figure(figsize=(8, 6))\n",
    "plt.plot(fpr, tpr, label='ROC curve (area = %0.2f)' % roc_auc)\n",
    "plt.plot([0, 1], [0, 1], 'k--', label='No Skill')\n",
    "plt.xlabel('False Positive Rate (FPR) for CDK2 Activity Prediction')\n",
    "plt.ylabel('True Positive Rate (TPR) for CDK2 Activity Prediction')\n",
    "plt.title('ROC Curve for CDK2 Activity Prediction Model')\n",
    "plt.legend(loc='best')\n",
    "plt.grid(True)\n",
    "plt.savefig('cdk2_activity_prediction_roc_curve.png')\n",
    "\n"
   ]
  },
  {
   "cell_type": "code",
   "execution_count": 75,
   "id": "0f5c975a",
   "metadata": {},
   "outputs": [
    {
     "data": {
      "text/plain": [
       "0.03571428571428571"
      ]
     },
     "execution_count": 75,
     "metadata": {},
     "output_type": "execute_result"
    }
   ],
   "source": [
    "102/2856"
   ]
  },
  {
   "cell_type": "code",
   "execution_count": null,
   "id": "354ac9b1",
   "metadata": {},
   "outputs": [],
   "source": []
  }
 ],
 "metadata": {
  "kernelspec": {
   "display_name": "Python 3 (ipykernel)",
   "language": "python",
   "name": "python3"
  },
  "language_info": {
   "codemirror_mode": {
    "name": "ipython",
    "version": 3
   },
   "file_extension": ".py",
   "mimetype": "text/x-python",
   "name": "python",
   "nbconvert_exporter": "python",
   "pygments_lexer": "ipython3",
   "version": "3.12.6"
  }
 },
 "nbformat": 4,
 "nbformat_minor": 5
}
